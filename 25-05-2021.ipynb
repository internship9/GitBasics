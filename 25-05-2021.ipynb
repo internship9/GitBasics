{
 "cells": [
  {
   "cell_type": "markdown",
   "id": "401c96ab",
   "metadata": {},
   "source": [
    "# variable:\n",
    "    - to store a value\n",
    "    - to access the value in different functions,methods\n",
    "    - to changes value"
   ]
  },
  {
   "cell_type": "code",
   "execution_count": 1,
   "id": "cb0ba088",
   "metadata": {},
   "outputs": [],
   "source": [
    "a = 10"
   ]
  },
  {
   "cell_type": "code",
   "execution_count": 2,
   "id": "d2953163",
   "metadata": {},
   "outputs": [
    {
     "data": {
      "text/plain": [
       "10"
      ]
     },
     "execution_count": 2,
     "metadata": {},
     "output_type": "execute_result"
    }
   ],
   "source": [
    "a"
   ]
  },
  {
   "cell_type": "code",
   "execution_count": 3,
   "id": "c5f79fd1",
   "metadata": {},
   "outputs": [],
   "source": [
    "b = 20"
   ]
  },
  {
   "cell_type": "code",
   "execution_count": 4,
   "id": "3a6ac5c6",
   "metadata": {},
   "outputs": [
    {
     "data": {
      "text/plain": [
       "20"
      ]
     },
     "execution_count": 4,
     "metadata": {},
     "output_type": "execute_result"
    }
   ],
   "source": [
    "b"
   ]
  },
  {
   "cell_type": "code",
   "execution_count": 5,
   "id": "6e2ec835",
   "metadata": {},
   "outputs": [
    {
     "data": {
      "text/plain": [
       "'rajesh'"
      ]
     },
     "execution_count": 5,
     "metadata": {},
     "output_type": "execute_result"
    }
   ],
   "source": [
    "a = 200\n",
    "b = 'rajesh'\n",
    "a\n",
    "b"
   ]
  },
  {
   "cell_type": "code",
   "execution_count": 6,
   "id": "19165ef8",
   "metadata": {},
   "outputs": [
    {
     "data": {
      "text/plain": [
       "200"
      ]
     },
     "execution_count": 6,
     "metadata": {},
     "output_type": "execute_result"
    }
   ],
   "source": [
    "a = 200\n",
    "b = 'rajesh'\n",
    "b\n",
    "a"
   ]
  },
  {
   "cell_type": "code",
   "execution_count": 7,
   "id": "c5374207",
   "metadata": {},
   "outputs": [
    {
     "data": {
      "text/plain": [
       "(200, 'rajesh')"
      ]
     },
     "execution_count": 7,
     "metadata": {},
     "output_type": "execute_result"
    }
   ],
   "source": [
    "a = 200\n",
    "b = \"rajesh\"\n",
    "a,b"
   ]
  },
  {
   "cell_type": "code",
   "execution_count": 8,
   "id": "0609d901",
   "metadata": {},
   "outputs": [
    {
     "name": "stdout",
     "output_type": "stream",
     "text": [
      "200 rajesh\n"
     ]
    }
   ],
   "source": [
    "print(a,b)"
   ]
  },
  {
   "cell_type": "code",
   "execution_count": 9,
   "id": "84f2a208",
   "metadata": {},
   "outputs": [
    {
     "name": "stdout",
     "output_type": "stream",
     "text": [
      "200 rajesh\n",
      "rajesh 200\n"
     ]
    }
   ],
   "source": [
    "print(a,b)\n",
    "print(b,a)"
   ]
  },
  {
   "cell_type": "markdown",
   "id": "195aaf81",
   "metadata": {},
   "source": [
    "## Data types\n",
    "    - int -> only numbers\n",
    "    - float -> decimal points\n",
    "    - string -> either with \"or\""
   ]
  },
  {
   "cell_type": "code",
   "execution_count": 21,
   "id": "ed59531d",
   "metadata": {},
   "outputs": [],
   "source": [
    "c = 23.000\n",
    "t = 'tarun'"
   ]
  },
  {
   "cell_type": "code",
   "execution_count": 11,
   "id": "73748255",
   "metadata": {},
   "outputs": [],
   "source": [
    "c,t = 23.000,'tarun'"
   ]
  },
  {
   "cell_type": "code",
   "execution_count": 12,
   "id": "3569249e",
   "metadata": {},
   "outputs": [
    {
     "name": "stdout",
     "output_type": "stream",
     "text": [
      "23.0 tarun\n"
     ]
    }
   ],
   "source": [
    "print(c,t)"
   ]
  },
  {
   "cell_type": "code",
   "execution_count": 15,
   "id": "8dfad25e",
   "metadata": {},
   "outputs": [
    {
     "data": {
      "text/plain": [
       "23.0"
      ]
     },
     "execution_count": 15,
     "metadata": {},
     "output_type": "execute_result"
    }
   ],
   "source": [
    "c"
   ]
  },
  {
   "cell_type": "markdown",
   "id": "6ed29b5d",
   "metadata": {},
   "source": [
    "## Type\n",
    "    - to know the data type for that value\n",
    "    - type(variablename,data structure)"
   ]
  },
  {
   "cell_type": "code",
   "execution_count": 16,
   "id": "fe3f1d29",
   "metadata": {},
   "outputs": [
    {
     "data": {
      "text/plain": [
       "float"
      ]
     },
     "execution_count": 16,
     "metadata": {},
     "output_type": "execute_result"
    }
   ],
   "source": [
    "type(c)"
   ]
  },
  {
   "cell_type": "code",
   "execution_count": 17,
   "id": "7ede72f6",
   "metadata": {},
   "outputs": [
    {
     "data": {
      "text/plain": [
       "'12.056'"
      ]
     },
     "execution_count": 17,
     "metadata": {},
     "output_type": "execute_result"
    }
   ],
   "source": [
    "g = '12.056'\n",
    "g"
   ]
  },
  {
   "cell_type": "code",
   "execution_count": 18,
   "id": "710dedd2",
   "metadata": {},
   "outputs": [
    {
     "name": "stdout",
     "output_type": "stream",
     "text": [
      "12.056\n"
     ]
    }
   ],
   "source": [
    "print(g)"
   ]
  },
  {
   "cell_type": "code",
   "execution_count": 19,
   "id": "7a330043",
   "metadata": {},
   "outputs": [
    {
     "data": {
      "text/plain": [
       "str"
      ]
     },
     "execution_count": 19,
     "metadata": {},
     "output_type": "execute_result"
    }
   ],
   "source": [
    "type(g)"
   ]
  },
  {
   "cell_type": "code",
   "execution_count": 22,
   "id": "a964418d",
   "metadata": {},
   "outputs": [
    {
     "name": "stdout",
     "output_type": "stream",
     "text": [
      "<class 'str'>\n"
     ]
    }
   ],
   "source": [
    "print(type(g))"
   ]
  },
  {
   "cell_type": "code",
   "execution_count": 23,
   "id": "26d3bc7f",
   "metadata": {},
   "outputs": [
    {
     "name": "stdout",
     "output_type": "stream",
     "text": [
      "<class 'float'>\n"
     ]
    }
   ],
   "source": [
    "print(type(c))"
   ]
  },
  {
   "cell_type": "code",
   "execution_count": 24,
   "id": "e56373f3",
   "metadata": {},
   "outputs": [
    {
     "name": "stdout",
     "output_type": "stream",
     "text": [
      "<class 'int'>\n"
     ]
    }
   ],
   "source": [
    "print(type(a))"
   ]
  },
  {
   "cell_type": "code",
   "execution_count": 25,
   "id": "1b5ff25b",
   "metadata": {},
   "outputs": [
    {
     "name": "stdout",
     "output_type": "stream",
     "text": [
      "<class 'int'> <class 'float'> <class 'str'>\n"
     ]
    }
   ],
   "source": [
    "print(type(a),type(c),type(g))"
   ]
  },
  {
   "cell_type": "code",
   "execution_count": 26,
   "id": "9bb6ba66",
   "metadata": {},
   "outputs": [
    {
     "data": {
      "text/plain": [
       "(200, 23.0, '12.056')"
      ]
     },
     "execution_count": 26,
     "metadata": {},
     "output_type": "execute_result"
    }
   ],
   "source": [
    "a,c,g"
   ]
  },
  {
   "cell_type": "code",
   "execution_count": 27,
   "id": "bab2eee1",
   "metadata": {},
   "outputs": [
    {
     "data": {
      "text/plain": [
       "(float, int, str)"
      ]
     },
     "execution_count": 27,
     "metadata": {},
     "output_type": "execute_result"
    }
   ],
   "source": [
    "type(c),type(a),type(g)"
   ]
  },
  {
   "cell_type": "markdown",
   "id": "06f0d080",
   "metadata": {},
   "source": [
    "## input():\n",
    "    - By default it will be considered as a string value\n",
    "    - print(),read()"
   ]
  },
  {
   "cell_type": "code",
   "execution_count": 1,
   "id": "77ad94b3",
   "metadata": {},
   "outputs": [
    {
     "name": "stdout",
     "output_type": "stream",
     "text": [
      "26\n",
      "26 <class 'str'>\n"
     ]
    }
   ],
   "source": [
    "a = input()\n",
    "print(a,type(a))"
   ]
  },
  {
   "cell_type": "code",
   "execution_count": 2,
   "id": "b5dfd763",
   "metadata": {},
   "outputs": [
    {
     "name": "stdout",
     "output_type": "stream",
     "text": [
      "Enter a value:45\n",
      "45 <class 'str'>\n"
     ]
    }
   ],
   "source": [
    "t = input(\"Enter a value:\")\n",
    "print(t,type(t))"
   ]
  },
  {
   "cell_type": "markdown",
   "id": "977048a9",
   "metadata": {},
   "source": [
    "## Type casting\n",
    "    - converting one data into another data type\n",
    "    - int(),str(),float()"
   ]
  },
  {
   "cell_type": "code",
   "execution_count": 3,
   "id": "2ebe39eb",
   "metadata": {},
   "outputs": [
    {
     "name": "stdout",
     "output_type": "stream",
     "text": [
      "Enter only integer values:78\n",
      "78 <class 'str'>\n"
     ]
    }
   ],
   "source": [
    "p = input(\"Enter only integer values:\")\n",
    "print(p,type(p))"
   ]
  },
  {
   "cell_type": "code",
   "execution_count": 4,
   "id": "58b88f13",
   "metadata": {},
   "outputs": [
    {
     "name": "stdout",
     "output_type": "stream",
     "text": [
      "Enter float values:12\n",
      "12.0 <class 'float'>\n"
     ]
    }
   ],
   "source": [
    "m = float(input(\"Enter float values:\"))\n",
    "print(m,type(m))"
   ]
  },
  {
   "cell_type": "code",
   "execution_count": 8,
   "id": "8590e198",
   "metadata": {},
   "outputs": [
    {
     "name": "stdout",
     "output_type": "stream",
     "text": [
      "Enter integer values:48\n",
      "Enter float values:45.0128\n",
      "48\n",
      "45.0128\n"
     ]
    }
   ],
   "source": [
    "q = int(input(\"Enter integer values:\"))\n",
    "k = float(input(\"Enter float values:\"))\n",
    "print(q)\n",
    "print(k)"
   ]
  },
  {
   "cell_type": "code",
   "execution_count": 24,
   "id": "c1d766e0",
   "metadata": {},
   "outputs": [
    {
     "ename": "SyntaxError",
     "evalue": "invalid syntax (<ipython-input-24-1758ea03f9ca>, line 1)",
     "output_type": "error",
     "traceback": [
      "\u001b[1;36m  File \u001b[1;32m\"<ipython-input-24-1758ea03f9ca>\"\u001b[1;36m, line \u001b[1;32m1\u001b[0m\n\u001b[1;33m    ````\u001b[0m\n\u001b[1;37m    ^\u001b[0m\n\u001b[1;31mSyntaxError\u001b[0m\u001b[1;31m:\u001b[0m invalid syntax\n"
     ]
    }
   ],
   "source": [
    "````\n",
    "    Input:\n",
    "        Enter integer values: 48\n",
    "        Enter Float values: 45.0218\n",
    "        \n",
    "    Output:\n",
    "        conversion of int value is: 48.0\n",
    "        conversion of float value is: 45\n",
    "        Both case in string is:'48' '45.0218'\n",
    "````"
   ]
  },
  {
   "cell_type": "code",
   "execution_count": 10,
   "id": "d9d32cf1",
   "metadata": {},
   "outputs": [
    {
     "name": "stdout",
     "output_type": "stream",
     "text": [
      "Enter integer values:48\n",
      "Enter float values:45.123\n",
      "Conversion of int value is:  48.0\n",
      "45.123\n"
     ]
    }
   ],
   "source": [
    "q = int(input(\"Enter integer values:\"))\n",
    "k = float(input(\"Enter float values:\"))\n",
    "print(\"Conversion of int value is: \",float(q))\n",
    "print(k)"
   ]
  },
  {
   "cell_type": "code",
   "execution_count": 11,
   "id": "395bf3bb",
   "metadata": {},
   "outputs": [
    {
     "name": "stdout",
     "output_type": "stream",
     "text": [
      "Enter integer values:48\n",
      "Enter float values:45.0128\n",
      "Conversion of int value is:  48.0\n",
      "Conversion of int value is:  45\n"
     ]
    }
   ],
   "source": [
    "q = int(input(\"Enter integer values:\"))\n",
    "k = float(input(\"Enter float values:\"))\n",
    "print(\"Conversion of int value is: \",float(q))\n",
    "print(\"Conversion of int value is: \",int(k))"
   ]
  },
  {
   "cell_type": "code",
   "execution_count": 12,
   "id": "6d2e4205",
   "metadata": {},
   "outputs": [
    {
     "name": "stdout",
     "output_type": "stream",
     "text": [
      "Enter integer values:48\n",
      "Enter float values:45.0218\n",
      "Conversion of int value is:  48.0\n",
      "Conversion of int value is:  45\n",
      "Both cases in string is: 48\n"
     ]
    }
   ],
   "source": [
    "q = int(input(\"Enter integer values:\"))\n",
    "k = float(input(\"Enter float values:\"))\n",
    "print(\"Conversion of int value is: \",float(q))\n",
    "print(\"Conversion of int value is: \",int(k))\n",
    "print(\"Both cases in string is:\",str(q))"
   ]
  },
  {
   "cell_type": "code",
   "execution_count": 15,
   "id": "a2c519ce",
   "metadata": {},
   "outputs": [
    {
     "name": "stdout",
     "output_type": "stream",
     "text": [
      "Enter integer values:45\n",
      "Enter float values:45.0218\n",
      "Conversion of int value is:  45.0\n",
      "Conversion of int value is:  45\n",
      "Both cases in string is:'45'\n"
     ]
    }
   ],
   "source": [
    "q = int(input(\"Enter integer values:\"))\n",
    "k = float(input(\"Enter float values:\"))\n",
    "print(\"Conversion of int value is: \",float(q))\n",
    "print(\"Conversion of int value is: \",int(k))\n",
    "print(\"Both cases in string is:\"+\"'\"+str(q)+\"'\")"
   ]
  },
  {
   "cell_type": "code",
   "execution_count": 16,
   "id": "1126a738",
   "metadata": {},
   "outputs": [
    {
     "name": "stdout",
     "output_type": "stream",
     "text": [
      "Enter integer values:45\n",
      "Enter float values:45.0218\n",
      "Conversion of int value is:  45.0\n",
      "Conversion of int value is:  45\n",
      "Both cases in string is:'45' '45.0218'\n"
     ]
    }
   ],
   "source": [
    "q = int(input(\"Enter integer values:\"))\n",
    "k = float(input(\"Enter float values:\"))\n",
    "print(\"Conversion of int value is: \",float(q))\n",
    "print(\"Conversion of int value is: \",int(k))\n",
    "print(\"Both cases in string is:\"+\"'\"+str(q)+\"'\"+\" \"+\"'\"+str(k)+\"'\")"
   ]
  }
 ],
 "metadata": {
  "kernelspec": {
   "display_name": "Python 3",
   "language": "python",
   "name": "python3"
  },
  "language_info": {
   "codemirror_mode": {
    "name": "ipython",
    "version": 3
   },
   "file_extension": ".py",
   "mimetype": "text/x-python",
   "name": "python",
   "nbconvert_exporter": "python",
   "pygments_lexer": "ipython3",
   "version": "3.7.0"
  }
 },
 "nbformat": 4,
 "nbformat_minor": 5
}
