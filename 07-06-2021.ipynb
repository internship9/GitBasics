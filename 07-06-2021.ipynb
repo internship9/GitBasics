{
 "cells": [
  {
   "cell_type": "markdown",
   "id": "6fb19410",
   "metadata": {},
   "source": [
    "# Packages and Modules:"
   ]
  },
  {
   "cell_type": "markdown",
   "id": "e9a27ac7",
   "metadata": {},
   "source": [
    "## Packages:\n",
    "    - Folder - No of files or number of folder\n",
    "    - Package -> Folder\n",
    "              -> Number of folders or files\n",
    "              -> Collection of modules\n",
    "    - Module -> Files[.py]\n",
    "             -> Collection of class,methods,functions,variables"
   ]
  },
  {
   "cell_type": "code",
   "execution_count": null,
   "id": "55eb9952",
   "metadata": {},
   "outputs": [],
   "source": [
    "Example:\n",
    "         College -> Package\n",
    "             CSE => Sub packages\n",
    "                 => First.py => Modules\n",
    "                 => Second.py\n",
    "                 => Third.py\n",
    "             ECE\n",
    "             EEE\n",
    "             MECH\n",
    "             Civil"
   ]
  },
  {
   "cell_type": "code",
   "execution_count": 1,
   "id": "ae917abb",
   "metadata": {},
   "outputs": [],
   "source": [
    "import math"
   ]
  },
  {
   "cell_type": "code",
   "execution_count": 2,
   "id": "191a1f9d",
   "metadata": {},
   "outputs": [
    {
     "name": "stdout",
     "output_type": "stream",
     "text": [
      "['__doc__', '__loader__', '__name__', '__package__', '__spec__', 'acos', 'acosh', 'asin', 'asinh', 'atan', 'atan2', 'atanh', 'ceil', 'copysign', 'cos', 'cosh', 'degrees', 'e', 'erf', 'erfc', 'exp', 'expm1', 'fabs', 'factorial', 'floor', 'fmod', 'frexp', 'fsum', 'gamma', 'gcd', 'hypot', 'inf', 'isclose', 'isfinite', 'isinf', 'isnan', 'ldexp', 'lgamma', 'log', 'log10', 'log1p', 'log2', 'modf', 'nan', 'pi', 'pow', 'radians', 'remainder', 'sin', 'sinh', 'sqrt', 'tan', 'tanh', 'tau', 'trunc']\n"
     ]
    }
   ],
   "source": [
    "print(dir(math))"
   ]
  },
  {
   "cell_type": "code",
   "execution_count": 3,
   "id": "3fb97d50",
   "metadata": {},
   "outputs": [
    {
     "name": "stdout",
     "output_type": "stream",
     "text": [
      "93326215443944152681699238856266700490715968264381621468592963895217599993229915608941463976156518286253697920827223758251185210916864000000000000000000000000\n"
     ]
    }
   ],
   "source": [
    "print(math.factorial(100))"
   ]
  },
  {
   "cell_type": "code",
   "execution_count": 4,
   "id": "d776e726",
   "metadata": {},
   "outputs": [],
   "source": [
    "import sample"
   ]
  },
  {
   "cell_type": "code",
   "execution_count": 5,
   "id": "3794b873",
   "metadata": {},
   "outputs": [
    {
     "name": "stdout",
     "output_type": "stream",
     "text": [
      "['__builtins__', '__cached__', '__doc__', '__file__', '__loader__', '__name__', '__package__', '__spec__', 'a']\n"
     ]
    }
   ],
   "source": [
    "print(dir(sample))"
   ]
  },
  {
   "cell_type": "code",
   "execution_count": 6,
   "id": "50861e7d",
   "metadata": {},
   "outputs": [
    {
     "name": "stdout",
     "output_type": "stream",
     "text": [
      "100\n"
     ]
    }
   ],
   "source": [
    "print(sample.a)"
   ]
  },
  {
   "cell_type": "code",
   "execution_count": null,
   "id": "fd2a95d1",
   "metadata": {},
   "outputs": [],
   "source": []
  }
 ],
 "metadata": {
  "kernelspec": {
   "display_name": "Python 3",
   "language": "python",
   "name": "python3"
  },
  "language_info": {
   "codemirror_mode": {
    "name": "ipython",
    "version": 3
   },
   "file_extension": ".py",
   "mimetype": "text/x-python",
   "name": "python",
   "nbconvert_exporter": "python",
   "pygments_lexer": "ipython3",
   "version": "3.7.0"
  }
 },
 "nbformat": 4,
 "nbformat_minor": 5
}
