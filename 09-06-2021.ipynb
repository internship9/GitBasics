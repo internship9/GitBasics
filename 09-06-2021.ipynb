{
 "cells": [
  {
   "cell_type": "markdown",
   "id": "2ebe3840",
   "metadata": {},
   "source": [
    "## Django:\n",
    "    - it is external module in python,so that we have to install\n",
    "    - it is web development framework coded in python\n",
    "    - while developing this django they followed a design patter MVT.\n",
    "### MVC:\n",
    "    M - Model\n",
    "        - it will store logics related database.\n",
    "    v - View\n",
    "        - it will store info related\n",
    "        UI(User Interface)\n",
    "    C - Controller\n",
    "        - it will logics main logics\n",
    "        "
   ]
  },
  {
   "cell_type": "markdown",
   "id": "67fb6ff2",
   "metadata": {},
   "source": [
    "## MVT:\n",
    "    M - Model\n",
    "        - it will store logics related database\n",
    "    V - View\n",
    "        - it will work like a controller\n",
    "    T - Template\n",
    "        - it will store info rerlated\n",
    "        UI(User Interface)"
   ]
  },
  {
   "cell_type": "markdown",
   "id": "3defd1a9",
   "metadata": {},
   "source": [
    "## Required Softwares:\n",
    "    - install django\n",
    "        - to install,you have a cmd in command prompt\n",
    "                ``` pip install django ```\n",
    "             or\n",
    "                         ``` pip install django==versionfDJ ```\n",
    "    - install any toll(sublime,atom,pycharm,notepad++,visual studio)"
   ]
  },
  {
   "cell_type": "markdown",
   "id": "7af4e672",
   "metadata": {},
   "source": [
    "## Project Creation"
   ]
  }
 ],
 "metadata": {
  "kernelspec": {
   "display_name": "Python 3",
   "language": "python",
   "name": "python3"
  },
  "language_info": {
   "codemirror_mode": {
    "name": "ipython",
    "version": 3
   },
   "file_extension": ".py",
   "mimetype": "text/x-python",
   "name": "python",
   "nbconvert_exporter": "python",
   "pygments_lexer": "ipython3",
   "version": "3.7.0"
  }
 },
 "nbformat": 4,
 "nbformat_minor": 5
}
