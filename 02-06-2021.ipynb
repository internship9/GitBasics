{
 "cells": [
  {
   "cell_type": "markdown",
   "id": "31fb0f68",
   "metadata": {},
   "source": [
    "# Strings:\n",
    "    - It can be represented within a 'or\" and we can represent other data types enclosed with 'or\"\n",
    "    - It can be typecasted as str()\n",
    "    - It has index and slicing can be done\n",
    "    - It can be changes the character but it doesnot effect to original string"
   ]
  },
  {
   "cell_type": "code",
   "execution_count": 1,
   "id": "59585345",
   "metadata": {},
   "outputs": [
    {
     "name": "stdout",
     "output_type": "stream",
     "text": [
      "APSSDC Internship\n"
     ]
    }
   ],
   "source": [
    "n = \"APSSDC Internship\"\n",
    "print(n)"
   ]
  },
  {
   "cell_type": "code",
   "execution_count": null,
   "id": "28d939da",
   "metadata": {},
   "outputs": [],
   "source": [
    "range(a)\n",
    "range(a,b)\n",
    "range(a,b,c)\n",
    "inclusive range -> exact index\n",
    "exclusive range -> given index range -1"
   ]
  },
  {
   "cell_type": "code",
   "execution_count": 12,
   "id": "059792f8",
   "metadata": {},
   "outputs": [
    {
     "name": "stdout",
     "output_type": "stream",
     "text": [
      "APSSDC Internship\n",
      "C\n",
      "h\n",
      "APSSDC Internship\n",
      "SDC Internship\n",
      "APSSDC Int\n",
      "C Inter\n",
      "PSSDC Inter\n",
      "terns\n",
      "e\n",
      "erns\n"
     ]
    }
   ],
   "source": [
    "print(n)\n",
    "print(n[5])\n",
    "print(n[-3])\n",
    "print(n[:])\n",
    "print(n[3:])\n",
    "print(n[:10])\n",
    "print(n[5:12])\n",
    "print(n[1:-5])\n",
    "print(n[9:-3])\n",
    "print(n[-7:11])\n",
    "print(n[-7:-3])"
   ]
  },
  {
   "cell_type": "code",
   "execution_count": 15,
   "id": "c9f3f20f",
   "metadata": {},
   "outputs": [
    {
     "name": "stdout",
     "output_type": "stream",
     "text": [
      "APSSDC Internship\n",
      "APSSDC\n"
     ]
    }
   ],
   "source": [
    "print(n)\n",
    "print(n[0:6])\n",
    "print(n[])"
   ]
  },
  {
   "cell_type": "code",
   "execution_count": 35,
   "id": "038f1702",
   "metadata": {},
   "outputs": [
    {
     "name": "stdout",
     "output_type": "stream",
     "text": [
      "APSSDC Welcome\n",
      "APSSDC Welcome\n",
      "ASD ecm\n",
      "eolWCSP\n",
      "ecWDP\n",
      "Ceo\n",
      "CS\n",
      "cWDP\n",
      " Wel\n",
      "elcome\n",
      "\n",
      "DC We\n",
      "DC Welc\n",
      "Ce\n",
      "C\n",
      "SSDC Welc\n"
     ]
    }
   ],
   "source": [
    "print(n)\n",
    "print(n[::])\n",
    "print(n[::2])\n",
    "print(n[::-2])\n",
    "print(n[::-3])\n",
    "print(n[5::3])\n",
    "print(n[5::-3])\n",
    "print(n[10::-3])\n",
    "print(n[6:10:])\n",
    "print(n[-6:14:])\n",
    "print(n[-5:-10])\n",
    "print(n[-10:-5:])\n",
    "print(n[4:-3:])\n",
    "print(n[5:10:3])\n",
    "print(n[5:-7:2])\n",
    "print(n[2:-3])"
   ]
  },
  {
   "cell_type": "code",
   "execution_count": 20,
   "id": "0a355955",
   "metadata": {},
   "outputs": [
    {
     "name": "stdout",
     "output_type": "stream",
     "text": [
      "234567889900008765543322345 <class 'str'>\n",
      "543223345567800009988765432\n"
     ]
    }
   ],
   "source": [
    "m = str(234567889900008765543322345)\n",
    "print(m,type(m))\n",
    "print(m[::-1])"
   ]
  },
  {
   "cell_type": "code",
   "execution_count": 22,
   "id": "d8f51696",
   "metadata": {},
   "outputs": [
    {
     "name": "stdout",
     "output_type": "stream",
     "text": [
      "234567889900008765543322345 <class 'str'>\n",
      "543223345567800009988765432 <class 'int'>\n"
     ]
    }
   ],
   "source": [
    "m = str(234567889900008765543322345)\n",
    "print(m,type(m))\n",
    "k = int(m[::-1])\n",
    "print(k,type(k))"
   ]
  },
  {
   "cell_type": "code",
   "execution_count": 40,
   "id": "ef504185",
   "metadata": {},
   "outputs": [
    {
     "name": "stdout",
     "output_type": "stream",
     "text": [
      "APSSDC Programs\n",
      "AP SSDC Progra ms\n"
     ]
    }
   ],
   "source": [
    "n = input()\n",
    "print(n[0:2]+\" \"+n[2:-2]+\" \"+n[-2:])"
   ]
  },
  {
   "cell_type": "code",
   "execution_count": 38,
   "id": "431986c8",
   "metadata": {},
   "outputs": [
    {
     "name": "stdout",
     "output_type": "stream",
     "text": [
      "ms\n"
     ]
    }
   ],
   "source": [
    "m = \"APSSDC Programs\"\n",
    "print(m[-2:])"
   ]
  },
  {
   "cell_type": "code",
   "execution_count": 41,
   "id": "04300f23",
   "metadata": {},
   "outputs": [
    {
     "name": "stdout",
     "output_type": "stream",
     "text": [
      "APSSDC Programs\n"
     ]
    }
   ],
   "source": [
    "print(n)"
   ]
  },
  {
   "cell_type": "code",
   "execution_count": 43,
   "id": "5752eca9",
   "metadata": {},
   "outputs": [
    {
     "name": "stdout",
     "output_type": "stream",
     "text": [
      "['__add__', '__class__', '__contains__', '__delattr__', '__dir__', '__doc__', '__eq__', '__format__', '__ge__', '__getattribute__', '__getitem__', '__getnewargs__', '__gt__', '__hash__', '__init__', '__init_subclass__', '__iter__', '__le__', '__len__', '__lt__', '__mod__', '__mul__', '__ne__', '__new__', '__reduce__', '__reduce_ex__', '__repr__', '__rmod__', '__rmul__', '__setattr__', '__sizeof__', '__str__', '__subclasshook__', 'capitalize', 'casefold', 'center', 'count', 'encode', 'endswith', 'expandtabs', 'find', 'format', 'format_map', 'index', 'isalnum', 'isalpha', 'isascii', 'isdecimal', 'isdigit', 'isidentifier', 'islower', 'isnumeric', 'isprintable', 'isspace', 'istitle', 'isupper', 'join', 'ljust', 'lower', 'lstrip', 'maketrans', 'partition', 'replace', 'rfind', 'rindex', 'rjust', 'rpartition', 'rsplit', 'rstrip', 'split', 'splitlines', 'startswith', 'strip', 'swapcase', 'title', 'translate', 'upper', 'zfill']\n"
     ]
    }
   ],
   "source": [
    "print(dir(str))"
   ]
  },
  {
   "cell_type": "code",
   "execution_count": 11,
   "id": "5de8b2d4",
   "metadata": {},
   "outputs": [
    {
     "name": "stdout",
     "output_type": "stream",
     "text": [
      "Welcome to APSSDC Programs\n",
      "Welcome to apssdc programs\n",
      "welcome to apssdc programs\n",
      "Welcome To Apssdc Programs\n",
      "wELCOME TO apssdc pROGRAMS\n"
     ]
    }
   ],
   "source": [
    "b = \"Welcome to APSSDC Programs\"\n",
    "print(b)\n",
    "print(b.capitalize())\n",
    "print(b.casefold())\n",
    "print(b.title())\n",
    "print(b.swapcase())"
   ]
  },
  {
   "cell_type": "code",
   "execution_count": 12,
   "id": "7b6faafe",
   "metadata": {},
   "outputs": [
    {
     "name": "stdout",
     "output_type": "stream",
     "text": [
      "Welcome to APSSDC Programs\n",
      "WELCOME TO APSSDC PROGRAMS\n",
      "welcome to apssdc programs\n",
      "False\n",
      "True\n",
      "True\n"
     ]
    }
   ],
   "source": [
    "print(b)\n",
    "print(b.upper())\n",
    "print(b.lower())\n",
    "print(b.startswith('a'))\n",
    "print(b.startswith('W'))\n",
    "print(b.endswith('s'))"
   ]
  },
  {
   "cell_type": "code",
   "execution_count": 15,
   "id": "85109bf2",
   "metadata": {},
   "outputs": [
    {
     "name": "stdout",
     "output_type": "stream",
     "text": [
      "Welcome to APSSDC Programs\n",
      "['Welcome', 'to', 'APSSDC', 'Programs']\n",
      "['W', 'lcom', ' to APSSDC Programs']\n",
      "['Welcome to APSSDC Progr', 'ms']\n",
      "2\n",
      "1\n",
      "-1\n"
     ]
    }
   ],
   "source": [
    "print(b)\n",
    "print(b.split())\n",
    "print(b.split('e'))\n",
    "print(b.split('a'))\n",
    "print(b.count('e'))\n",
    "print(b.find('e'))\n",
    "print(b.find('z'))\n",
    "print(b.rfind('e')\n",
    "    print()"
   ]
  },
  {
   "cell_type": "code",
   "execution_count": 9,
   "id": "4f31961c",
   "metadata": {},
   "outputs": [
    {
     "name": "stdout",
     "output_type": "stream",
     "text": [
      "1 2 3 4 5 6 7 5 6 \n",
      "['1 2 3 4 5 ', ' 7 5 ', ' ']\n"
     ]
    }
   ],
   "source": [
    "n = input().split('6')\n",
    "print(n)"
   ]
  },
  {
   "cell_type": "code",
   "execution_count": 10,
   "id": "812c0a9d",
   "metadata": {},
   "outputs": [
    {
     "name": "stdout",
     "output_type": "stream",
     "text": [
      "ramu ravi raju\n",
      "['ramu', 'ravi', 'raju']\n"
     ]
    }
   ],
   "source": [
    "n = input().split()\n",
    "print(n)"
   ]
  },
  {
   "cell_type": "code",
   "execution_count": 29,
   "id": "4d84a829",
   "metadata": {},
   "outputs": [
    {
     "name": "stdout",
     "output_type": "stream",
     "text": [
      "     sample \n",
      "ramu  tarun  \n",
      "sample\n",
      "ramu  tarun\n",
      "sample \n",
      "ramu  tarun  \n"
     ]
    }
   ],
   "source": [
    "d = \"     sample \"\n",
    "e = \"ramu  \"\"tarun  \"\n",
    "print(d)\n",
    "print(e)\n",
    "print(d.strip())\n",
    "print(e.strip())\n",
    "print(d.lstrip())\n",
    "print(e.lstrip())"
   ]
  },
  {
   "cell_type": "code",
   "execution_count": 30,
   "id": "3bb8f474",
   "metadata": {},
   "outputs": [
    {
     "name": "stdout",
     "output_type": "stream",
     "text": [
      "Welcome to APSSDC Programs\n",
      "Welcome to APSSDC Programs\n"
     ]
    }
   ],
   "source": [
    "print(b)\n",
    "print(b.ljust(10))"
   ]
  },
  {
   "cell_type": "code",
   "execution_count": 31,
   "id": "629260d9",
   "metadata": {},
   "outputs": [
    {
     "name": "stdout",
     "output_type": "stream",
     "text": [
      "     sample \n",
      "     sample                                       \n",
      "ramu  tarun                                       \n",
      "                                                               sample \n",
      "                                                         ramu  tarun  \n",
      "00000000     sample \n"
     ]
    }
   ],
   "source": [
    "print(d)\n",
    "print(d.ljust(50))\n",
    "print(e.ljust(50))\n",
    "print(d.rjust(70))\n",
    "print(e.rjust(70))\n",
    "print(d.zfill(20))"
   ]
  },
  {
   "cell_type": "code",
   "execution_count": 33,
   "id": "606b555b",
   "metadata": {},
   "outputs": [
    {
     "name": "stdout",
     "output_type": "stream",
     "text": [
      "apssdc\n",
      "APSSDC\n"
     ]
    }
   ],
   "source": [
    "z = \"APSSDC\"\n",
    "print(z.lower())\n",
    "print(z.upper())"
   ]
  },
  {
   "cell_type": "code",
   "execution_count": 34,
   "id": "1b3af3dc",
   "metadata": {},
   "outputs": [
    {
     "name": "stdout",
     "output_type": "stream",
     "text": [
      "APSSDC\n",
      "apssdc\n",
      "APSSDC\n"
     ]
    }
   ],
   "source": [
    "z = \"APSSDC\"\n",
    "p = z.lower()\n",
    "f = z.upper()\n",
    "print(z)\n",
    "print(p)\n",
    "print(f)"
   ]
  },
  {
   "cell_type": "code",
   "execution_count": 36,
   "id": "bd4f449f",
   "metadata": {},
   "outputs": [
    {
     "name": "stdout",
     "output_type": "stream",
     "text": [
      "APSSDC\n",
      "XPSSDC\n",
      "00000000     sample \n",
      "AAAAAAAA     sample \n"
     ]
    }
   ],
   "source": [
    "print(z)\n",
    "print(z.replace('A','X'))\n",
    "g = d.zfill(20)\n",
    "print(g)\n",
    "print(g.replace('0','A'))"
   ]
  },
  {
   "cell_type": "code",
   "execution_count": 38,
   "id": "dbb054aa",
   "metadata": {},
   "outputs": [
    {
     "name": "stdout",
     "output_type": "stream",
     "text": [
      "R a m e s h\n",
      "Ramesh\n"
     ]
    }
   ],
   "source": [
    "k = \"Ramesh\"\n",
    "a = \" \".join(k)\n",
    "print(a)\n",
    "print(k)"
   ]
  },
  {
   "cell_type": "code",
   "execution_count": 40,
   "id": "a38f334c",
   "metadata": {},
   "outputs": [
    {
     "name": "stdout",
     "output_type": "stream",
     "text": [
      "34-45-786\n",
      "['34', '45', '786']\n"
     ]
    }
   ],
   "source": [
    "t = [\"34\",'45','786']\n",
    "g = \"-\".join(t)\n",
    "print(g)\n",
    "print(t)"
   ]
  },
  {
   "cell_type": "code",
   "execution_count": 41,
   "id": "ec817f2c",
   "metadata": {},
   "outputs": [
    {
     "name": "stdout",
     "output_type": "stream",
     "text": [
      "19kq1a0547-Teja-PACE\n",
      "['19kq1a0547', 'Teja', 'PACE']\n"
     ]
    }
   ],
   "source": [
    "n = input().split(\"-\")\n",
    "print(n)"
   ]
  },
  {
   "cell_type": "code",
   "execution_count": 14,
   "id": "3607f309",
   "metadata": {},
   "outputs": [
    {
     "name": "stdout",
     "output_type": "stream",
     "text": [
      "20kq5a0504-Lakshmi-PACE\n",
      "Lakshmi PACE\n"
     ]
    }
   ],
   "source": [
    "n = input().split(\"-\")\n",
    "p = n[2].split()\n",
    "print(n[1]+\" \"+p[0])"
   ]
  },
  {
   "cell_type": "code",
   "execution_count": 15,
   "id": "7a7c9b02",
   "metadata": {},
   "outputs": [
    {
     "name": "stdout",
     "output_type": "stream",
     "text": [
      "1 4 5 5 y s h h n h @ $ "
     ]
    }
   ],
   "source": [
    "k = '1455yshhnh@$'\n",
    "for i in k:\n",
    "    print(i,end=\" \")"
   ]
  },
  {
   "cell_type": "code",
   "execution_count": 16,
   "id": "62a34672",
   "metadata": {},
   "outputs": [
    {
     "name": "stdout",
     "output_type": "stream",
     "text": [
      "False\n",
      "False\n"
     ]
    }
   ],
   "source": [
    "print(k.isalpha())\n",
    "print(k.isalnum())"
   ]
  },
  {
   "cell_type": "code",
   "execution_count": 17,
   "id": "e97c5805",
   "metadata": {},
   "outputs": [
    {
     "name": "stdout",
     "output_type": "stream",
     "text": [
      "False\n",
      "True\n"
     ]
    }
   ],
   "source": [
    "u = '1235fgt'\n",
    "i = 'AWEdrt'\n",
    "print(u.isalpha())\n",
    "print(i.isalnum())"
   ]
  },
  {
   "cell_type": "code",
   "execution_count": 13,
   "id": "4717f0e8",
   "metadata": {},
   "outputs": [
    {
     "ename": "SyntaxError",
     "evalue": "invalid syntax (<ipython-input-13-c5e7bf0d0832>, line 1)",
     "output_type": "error",
     "traceback": [
      "\u001b[1;36m  File \u001b[1;32m\"<ipython-input-13-c5e7bf0d0832>\"\u001b[1;36m, line \u001b[1;32m1\u001b[0m\n\u001b[1;33m    ````\u001b[0m\n\u001b[1;37m    ^\u001b[0m\n\u001b[1;31mSyntaxError\u001b[0m\u001b[1;31m:\u001b[0m invalid syntax\n"
     ]
    }
   ],
   "source": [
    "````\n",
    "    Input:145sYfg&*4#\n",
    "\n",
    "    Output:\n",
    "        Given string is:145sYfg%$*#\n",
    "        Alphabet in 145sYfg&*$# is:s Y f g\n",
    "        numbers in 145sYfg&*4# is: 1 4 5\n",
    "        special characters in 145sYfg&8$# is: & * $ #\n",
    "````"
   ]
  },
  {
   "cell_type": "code",
   "execution_count": null,
   "id": "883eb7fc",
   "metadata": {},
   "outputs": [],
   "source": []
  }
 ],
 "metadata": {
  "kernelspec": {
   "display_name": "Python 3",
   "language": "python",
   "name": "python3"
  },
  "language_info": {
   "codemirror_mode": {
    "name": "ipython",
    "version": 3
   },
   "file_extension": ".py",
   "mimetype": "text/x-python",
   "name": "python",
   "nbconvert_exporter": "python",
   "pygments_lexer": "ipython3",
   "version": "3.7.0"
  }
 },
 "nbformat": 4,
 "nbformat_minor": 5
}
