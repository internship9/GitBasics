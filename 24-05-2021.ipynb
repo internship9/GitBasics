{
 "cells": [
  {
   "cell_type": "markdown",
   "id": "e16702fd",
   "metadata": {},
   "source": [
    "# Python:\n",
    "    - Easy to learn and understand\n",
    "    - Easy to code"
   ]
  },
  {
   "cell_type": "markdown",
   "id": "2a18eb6b",
   "metadata": {},
   "source": [
    "# Interpreter language:\n",
    "### What is meant by Interpreter and complier?\n",
    "#### Interpreter:\n",
    "    - It excutes line by line if any errors occurs it will stops at that particular point\n",
    "#### Complier:\n",
    "    - It excutes line by line it displays all the errors at a time"
   ]
  },
  {
   "cell_type": "markdown",
   "id": "0ba17fa6",
   "metadata": {},
   "source": [
    "# Python Executions:\n",
    "#### Editor -> to write -> to write code\n"
   ]
  }
 ],
 "metadata": {
  "kernelspec": {
   "display_name": "Python 3",
   "language": "python",
   "name": "python3"
  },
  "language_info": {
   "codemirror_mode": {
    "name": "ipython",
    "version": 3
   },
   "file_extension": ".py",
   "mimetype": "text/x-python",
   "name": "python",
   "nbconvert_exporter": "python",
   "pygments_lexer": "ipython3",
   "version": "3.7.0"
  }
 },
 "nbformat": 4,
 "nbformat_minor": 5
}
