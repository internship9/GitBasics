{
 "cells": [
  {
   "cell_type": "markdown",
   "id": "9332b264",
   "metadata": {},
   "source": [
    "## OOPS:\n",
    "    - class\n",
    "    - method\n",
    "    - object\n",
    "    - constructor\n",
    "    - packages and modules by using class\n",
    "    - inheritance"
   ]
  },
  {
   "cell_type": "markdown",
   "id": "0937130d",
   "metadata": {},
   "source": [
    "## Class:\n",
    "    - class is a collection of variables and methods\n",
    "### rules to define class\n",
    "    - should not start with number\n",
    "    - not to use keywords"
   ]
  },
  {
   "cell_type": "code",
   "execution_count": 1,
   "id": "2195ace9",
   "metadata": {},
   "outputs": [],
   "source": [
    "class Hi:\n",
    "    name,rollno = \"APSSDC\",508\n",
    "    def msg():\n",
    "        print(\"hi all,i am from msg()\")"
   ]
  },
  {
   "cell_type": "code",
   "execution_count": 3,
   "id": "2b899494",
   "metadata": {},
   "outputs": [
    {
     "data": {
      "text/plain": [
       "'APSSDC'"
      ]
     },
     "execution_count": 3,
     "metadata": {},
     "output_type": "execute_result"
    }
   ],
   "source": [
    "Hi.name"
   ]
  },
  {
   "cell_type": "code",
   "execution_count": 4,
   "id": "b1626d6d",
   "metadata": {},
   "outputs": [
    {
     "data": {
      "text/plain": [
       "508"
      ]
     },
     "execution_count": 4,
     "metadata": {},
     "output_type": "execute_result"
    }
   ],
   "source": [
    "Hi.rollno"
   ]
  },
  {
   "cell_type": "code",
   "execution_count": 5,
   "id": "0b282fc4",
   "metadata": {},
   "outputs": [
    {
     "name": "stdout",
     "output_type": "stream",
     "text": [
      "hi all,i am from msg()\n"
     ]
    }
   ],
   "source": [
    "Hi.msg()"
   ]
  },
  {
   "cell_type": "code",
   "execution_count": 6,
   "id": "1038c6b6",
   "metadata": {},
   "outputs": [],
   "source": [
    "obj = Hi"
   ]
  },
  {
   "cell_type": "code",
   "execution_count": 7,
   "id": "9fbef5e5",
   "metadata": {},
   "outputs": [
    {
     "data": {
      "text/plain": [
       "'APSSDC'"
      ]
     },
     "execution_count": 7,
     "metadata": {},
     "output_type": "execute_result"
    }
   ],
   "source": [
    "obj.name"
   ]
  },
  {
   "cell_type": "code",
   "execution_count": 8,
   "id": "1f17477a",
   "metadata": {},
   "outputs": [
    {
     "name": "stdout",
     "output_type": "stream",
     "text": [
      "hi all,i am from msg()\n"
     ]
    }
   ],
   "source": [
    "obj.msg()"
   ]
  },
  {
   "cell_type": "code",
   "execution_count": 32,
   "id": "2aa01663",
   "metadata": {},
   "outputs": [],
   "source": [
    "class Calci:\n",
    "    def add(n1,n2):\n",
    "        return n1 + n2\n",
    "    def sub(n1,n2):\n",
    "        return n1 - n2\n",
    "    def mul(val1,val2):\n",
    "        return(val1 * val2)\n",
    "    def div(val1,val2):\n",
    "        return(val1 / val2)\n",
    "    def exp(val1,val2):\n",
    "        return(val1 ** val2)\n",
    "    "
   ]
  },
  {
   "cell_type": "code",
   "execution_count": 33,
   "id": "312b8c2e",
   "metadata": {},
   "outputs": [],
   "source": [
    "cal = Calci"
   ]
  },
  {
   "cell_type": "code",
   "execution_count": 34,
   "id": "e0a6428d",
   "metadata": {},
   "outputs": [
    {
     "data": {
      "text/plain": [
       "45"
      ]
     },
     "execution_count": 34,
     "metadata": {},
     "output_type": "execute_result"
    }
   ],
   "source": [
    "cal.add(22,23)"
   ]
  },
  {
   "cell_type": "code",
   "execution_count": 35,
   "id": "5a0ac195",
   "metadata": {},
   "outputs": [
    {
     "data": {
      "text/plain": [
       "22"
      ]
     },
     "execution_count": 35,
     "metadata": {},
     "output_type": "execute_result"
    }
   ],
   "source": [
    "cal.sub(56,34)"
   ]
  },
  {
   "cell_type": "code",
   "execution_count": 36,
   "id": "849dc3e0",
   "metadata": {},
   "outputs": [
    {
     "data": {
      "text/plain": [
       "1288"
      ]
     },
     "execution_count": 36,
     "metadata": {},
     "output_type": "execute_result"
    }
   ],
   "source": [
    "cal.mul(56,23)"
   ]
  },
  {
   "cell_type": "code",
   "execution_count": 37,
   "id": "8c4bbcf7",
   "metadata": {},
   "outputs": [
    {
     "data": {
      "text/plain": [
       "1.8"
      ]
     },
     "execution_count": 37,
     "metadata": {},
     "output_type": "execute_result"
    }
   ],
   "source": [
    "cal.div(45,25)"
   ]
  },
  {
   "cell_type": "code",
   "execution_count": 38,
   "id": "5662f9b2",
   "metadata": {},
   "outputs": [
    {
     "data": {
      "text/plain": [
       "10804695562359870518299193703899148848724015728610899282651377959960576"
      ]
     },
     "execution_count": 38,
     "metadata": {},
     "output_type": "execute_result"
    }
   ],
   "source": [
    "cal.exp(36,45)"
   ]
  },
  {
   "cell_type": "code",
   "execution_count": 39,
   "id": "adad79b4",
   "metadata": {},
   "outputs": [
    {
     "data": {
      "text/plain": [
       "16"
      ]
     },
     "execution_count": 39,
     "metadata": {},
     "output_type": "execute_result"
    }
   ],
   "source": [
    "cal.exp(2,4)"
   ]
  },
  {
   "cell_type": "code",
   "execution_count": 43,
   "id": "49689b4e",
   "metadata": {},
   "outputs": [],
   "source": [
    "cal1 = Calci()"
   ]
  },
  {
   "cell_type": "code",
   "execution_count": 44,
   "id": "86c06e4a",
   "metadata": {},
   "outputs": [
    {
     "ename": "TypeError",
     "evalue": "add() takes 2 positional arguments but 3 were given",
     "output_type": "error",
     "traceback": [
      "\u001b[1;31m---------------------------------------------------------------------------\u001b[0m",
      "\u001b[1;31mTypeError\u001b[0m                                 Traceback (most recent call last)",
      "\u001b[1;32m<ipython-input-44-343f44c076fd>\u001b[0m in \u001b[0;36m<module>\u001b[1;34m\u001b[0m\n\u001b[1;32m----> 1\u001b[1;33m \u001b[0mcal1\u001b[0m\u001b[1;33m.\u001b[0m\u001b[0madd\u001b[0m\u001b[1;33m(\u001b[0m\u001b[1;36m21\u001b[0m\u001b[1;33m,\u001b[0m\u001b[1;36m22\u001b[0m\u001b[1;33m)\u001b[0m\u001b[1;33m\u001b[0m\u001b[0m\n\u001b[0m",
      "\u001b[1;31mTypeError\u001b[0m: add() takes 2 positional arguments but 3 were given"
     ]
    }
   ],
   "source": [
    "cal1.add(21,22)"
   ]
  },
  {
   "cell_type": "markdown",
   "id": "25f97b95",
   "metadata": {},
   "source": [
    "### Constructor:\n",
    "     - It is special method in python i.e,__init__()\n",
    "     - It will execute while creating object\n",
    "     - we have 2 diff types constructors\n",
    "         - default\n",
    "         - parameterised\n",
    "    "
   ]
  },
  {
   "cell_type": "code",
   "execution_count": 45,
   "id": "31f17147",
   "metadata": {},
   "outputs": [],
   "source": [
    "class Hello:\n",
    "    def __init__(self):\n",
    "        print(\"hi i am default constructor\")"
   ]
  },
  {
   "cell_type": "code",
   "execution_count": 46,
   "id": "ad8bc300",
   "metadata": {},
   "outputs": [
    {
     "name": "stdout",
     "output_type": "stream",
     "text": [
      "hi i am default constructor\n"
     ]
    }
   ],
   "source": [
    "obj = Hello()"
   ]
  },
  {
   "cell_type": "code",
   "execution_count": 58,
   "id": "aca2e3c4",
   "metadata": {},
   "outputs": [],
   "source": [
    "class Hello1:\n",
    "    def __init__(fles,val1,val2):\n",
    "        fles.val1 = val1\n",
    "        fles.val2 = val2\n",
    "    def show(fles):\n",
    "        print(fles.val1,fles.val2,fles.val3,fles.val4)\n",
    "    def add(fles):\n",
    "        return fles.val1 + fles.val2 \n",
    "    def profile(fles,val3,val4):\n",
    "        fles.val3 = val3\n",
    "        fles.val4 = val4"
   ]
  },
  {
   "cell_type": "code",
   "execution_count": 59,
   "id": "e56a01d9",
   "metadata": {},
   "outputs": [],
   "source": [
    "obj = Hello1(56,41)"
   ]
  },
  {
   "cell_type": "code",
   "execution_count": 60,
   "id": "bd735a85",
   "metadata": {},
   "outputs": [
    {
     "ename": "AttributeError",
     "evalue": "'Hello1' object has no attribute 'val3'",
     "output_type": "error",
     "traceback": [
      "\u001b[1;31m---------------------------------------------------------------------------\u001b[0m",
      "\u001b[1;31mAttributeError\u001b[0m                            Traceback (most recent call last)",
      "\u001b[1;32m<ipython-input-60-3a5b94642195>\u001b[0m in \u001b[0;36m<module>\u001b[1;34m\u001b[0m\n\u001b[1;32m----> 1\u001b[1;33m \u001b[0mobj\u001b[0m\u001b[1;33m.\u001b[0m\u001b[0mshow\u001b[0m\u001b[1;33m(\u001b[0m\u001b[1;33m)\u001b[0m\u001b[1;33m\u001b[0m\u001b[0m\n\u001b[0m",
      "\u001b[1;32m<ipython-input-58-2320d4c6c2d3>\u001b[0m in \u001b[0;36mshow\u001b[1;34m(fles)\u001b[0m\n\u001b[0;32m      4\u001b[0m         \u001b[0mfles\u001b[0m\u001b[1;33m.\u001b[0m\u001b[0mval2\u001b[0m \u001b[1;33m=\u001b[0m \u001b[0mval2\u001b[0m\u001b[1;33m\u001b[0m\u001b[0m\n\u001b[0;32m      5\u001b[0m     \u001b[1;32mdef\u001b[0m \u001b[0mshow\u001b[0m\u001b[1;33m(\u001b[0m\u001b[0mfles\u001b[0m\u001b[1;33m)\u001b[0m\u001b[1;33m:\u001b[0m\u001b[1;33m\u001b[0m\u001b[0m\n\u001b[1;32m----> 6\u001b[1;33m         \u001b[0mprint\u001b[0m\u001b[1;33m(\u001b[0m\u001b[0mfles\u001b[0m\u001b[1;33m.\u001b[0m\u001b[0mval1\u001b[0m\u001b[1;33m,\u001b[0m\u001b[0mfles\u001b[0m\u001b[1;33m.\u001b[0m\u001b[0mval2\u001b[0m\u001b[1;33m,\u001b[0m\u001b[0mfles\u001b[0m\u001b[1;33m.\u001b[0m\u001b[0mval3\u001b[0m\u001b[1;33m,\u001b[0m\u001b[0mfles\u001b[0m\u001b[1;33m.\u001b[0m\u001b[0mval4\u001b[0m\u001b[1;33m)\u001b[0m\u001b[1;33m\u001b[0m\u001b[0m\n\u001b[0m\u001b[0;32m      7\u001b[0m     \u001b[1;32mdef\u001b[0m \u001b[0madd\u001b[0m\u001b[1;33m(\u001b[0m\u001b[0mfles\u001b[0m\u001b[1;33m)\u001b[0m\u001b[1;33m:\u001b[0m\u001b[1;33m\u001b[0m\u001b[0m\n\u001b[0;32m      8\u001b[0m         \u001b[1;32mreturn\u001b[0m \u001b[0mfles\u001b[0m\u001b[1;33m.\u001b[0m\u001b[0mval1\u001b[0m \u001b[1;33m+\u001b[0m \u001b[0mfles\u001b[0m\u001b[1;33m.\u001b[0m\u001b[0mval2\u001b[0m\u001b[1;33m\u001b[0m\u001b[0m\n",
      "\u001b[1;31mAttributeError\u001b[0m: 'Hello1' object has no attribute 'val3'"
     ]
    }
   ],
   "source": [
    "obj.show()"
   ]
  },
  {
   "cell_type": "code",
   "execution_count": 61,
   "id": "c3801066",
   "metadata": {},
   "outputs": [],
   "source": [
    "obj.profile(63,96)"
   ]
  },
  {
   "cell_type": "code",
   "execution_count": 62,
   "id": "09c6d147",
   "metadata": {},
   "outputs": [
    {
     "name": "stdout",
     "output_type": "stream",
     "text": [
      "56 41 63 96\n"
     ]
    }
   ],
   "source": [
    "obj.show()"
   ]
  },
  {
   "cell_type": "code",
   "execution_count": 66,
   "id": "affb7566",
   "metadata": {},
   "outputs": [],
   "source": [
    "from Package import mylogics"
   ]
  },
  {
   "cell_type": "raw",
   "id": "7bced98a",
   "metadata": {},
   "source": [
    "dir(mylogics)"
   ]
  },
  {
   "cell_type": "code",
   "execution_count": 67,
   "id": "cf8aa941",
   "metadata": {},
   "outputs": [
    {
     "data": {
      "text/plain": [
       "True"
      ]
     },
     "execution_count": 67,
     "metadata": {},
     "output_type": "execute_result"
    }
   ],
   "source": [
    "mylogics.MyMath.isEven(52)"
   ]
  },
  {
   "cell_type": "code",
   "execution_count": 68,
   "id": "17b7717d",
   "metadata": {},
   "outputs": [],
   "source": [
    "from Package.mylogics import MyMath"
   ]
  },
  {
   "cell_type": "code",
   "execution_count": 69,
   "id": "b126758e",
   "metadata": {},
   "outputs": [],
   "source": [
    "obj = MyMath"
   ]
  },
  {
   "cell_type": "code",
   "execution_count": 72,
   "id": "13359b75",
   "metadata": {},
   "outputs": [
    {
     "data": {
      "text/plain": [
       "True"
      ]
     },
     "execution_count": 72,
     "metadata": {},
     "output_type": "execute_result"
    }
   ],
   "source": [
    "obj.isPrime(47)"
   ]
  },
  {
   "cell_type": "markdown",
   "id": "3544f7be",
   "metadata": {},
   "source": [
    "### Inheritance:\n",
    "    - inheriting properties from parent to child\n",
    "    - acquirng properties from one class to another class\n",
    "    - types of inhertance\n",
    "        - single\n",
    "        - multiple\n",
    "        - multilevel\n",
    "        - hierachical\n",
    "        - hybrid"
   ]
  },
  {
   "cell_type": "code",
   "execution_count": 73,
   "id": "13e6fccb",
   "metadata": {},
   "outputs": [],
   "source": [
    "class Parent:\n",
    "    name =\"parent\"\n",
    "    value = 500\n",
    "    def display():\n",
    "        print(\"i as from parent class\")"
   ]
  },
  {
   "cell_type": "code",
   "execution_count": 74,
   "id": "decc5239",
   "metadata": {},
   "outputs": [],
   "source": [
    "class child(Parent):\n",
    "    cname = \"Child\"\n",
    "    age = 34\n",
    "    def show():\n",
    "        print(\"i as from child class\")"
   ]
  },
  {
   "cell_type": "code",
   "execution_count": 75,
   "id": "4c5c2e56",
   "metadata": {},
   "outputs": [],
   "source": [
    "obj = child"
   ]
  },
  {
   "cell_type": "code",
   "execution_count": 76,
   "id": "f0af233b",
   "metadata": {},
   "outputs": [
    {
     "data": {
      "text/plain": [
       "'parent'"
      ]
     },
     "execution_count": 76,
     "metadata": {},
     "output_type": "execute_result"
    }
   ],
   "source": [
    "obj.name"
   ]
  },
  {
   "cell_type": "code",
   "execution_count": 77,
   "id": "afa05c72",
   "metadata": {},
   "outputs": [
    {
     "name": "stdout",
     "output_type": "stream",
     "text": [
      "i as from parent class\n"
     ]
    }
   ],
   "source": [
    "obj.display()"
   ]
  },
  {
   "cell_type": "code",
   "execution_count": 78,
   "id": "404849b2",
   "metadata": {},
   "outputs": [
    {
     "name": "stdout",
     "output_type": "stream",
     "text": [
      "i as from child class\n"
     ]
    }
   ],
   "source": [
    "obj.show()"
   ]
  }
 ],
 "metadata": {
  "kernelspec": {
   "display_name": "Python 3",
   "language": "python",
   "name": "python3"
  },
  "language_info": {
   "codemirror_mode": {
    "name": "ipython",
    "version": 3
   },
   "file_extension": ".py",
   "mimetype": "text/x-python",
   "name": "python",
   "nbconvert_exporter": "python",
   "pygments_lexer": "ipython3",
   "version": "3.7.0"
  }
 },
 "nbformat": 4,
 "nbformat_minor": 5
}
