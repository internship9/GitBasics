{
 "cells": [
  {
   "cell_type": "code",
   "execution_count": 1,
   "id": "9f0c954a",
   "metadata": {},
   "outputs": [
    {
     "name": "stdout",
     "output_type": "stream",
     "text": [
      "11\n",
      "19AK1A0500\n",
      "19AK1A0501\n",
      "19AK1A0502\n",
      "19AK1A0503\n",
      "19AK1A0504\n",
      "19AK1A0505\n",
      "19AK1A0506\n",
      "19AK1A0507\n",
      "19AK1A0508\n",
      "19AK1A0509\n",
      "19AK1A0510\n"
     ]
    }
   ],
   "source": [
    "n = int(input())\n",
    "for j in range(n):\n",
    "    print(\"19AK1A05{:02}\".format(j))"
   ]
  },
  {
   "cell_type": "code",
   "execution_count": null,
   "id": "3512e3e1",
   "metadata": {},
   "outputs": [],
   "source": [
    "{} -> .format(?)\n",
    "{:01} -> .format{?}\n",
    "{:02} -> 10 -> [1-9] -> :03"
   ]
  },
  {
   "cell_type": "markdown",
   "id": "ed150956",
   "metadata": {},
   "source": [
    "## while -> unknown ranges,known ranges\n"
   ]
  },
  {
   "cell_type": "code",
   "execution_count": 2,
   "id": "47924ce9",
   "metadata": {},
   "outputs": [
    {
     "name": "stdout",
     "output_type": "stream",
     "text": [
      "20\n",
      "20 19 18 17 16 15 14 13 12 11 "
     ]
    }
   ],
   "source": [
    "n = int(input())\n",
    "while n!=10:\n",
    "    print(n,end=\" \")\n",
    "    n = n-1"
   ]
  },
  {
   "cell_type": "code",
   "execution_count": 3,
   "id": "b2f52409",
   "metadata": {},
   "outputs": [
    {
     "name": "stdout",
     "output_type": "stream",
     "text": [
      "1259\n",
      "given number is: 0\n"
     ]
    }
   ],
   "source": [
    "n = int(input())\n",
    "r = 0\n",
    "while n!=0:\n",
    "    r = r*10+n%10\n",
    "    n //=10\n",
    "print(\"given number is: {}\".format(n))"
   ]
  },
  {
   "cell_type": "markdown",
   "id": "a2add137",
   "metadata": {},
   "source": [
    "## jumping statements\n",
    "    -break -> exit\n",
    "    -"
   ]
  }
 ],
 "metadata": {
  "kernelspec": {
   "display_name": "Python 3",
   "language": "python",
   "name": "python3"
  },
  "language_info": {
   "codemirror_mode": {
    "name": "ipython",
    "version": 3
   },
   "file_extension": ".py",
   "mimetype": "text/x-python",
   "name": "python",
   "nbconvert_exporter": "python",
   "pygments_lexer": "ipython3",
   "version": "3.7.0"
  }
 },
 "nbformat": 4,
 "nbformat_minor": 5
}
