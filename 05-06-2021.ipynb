{
 "cells": [
  {
   "cell_type": "markdown",
   "id": "97b9967f",
   "metadata": {},
   "source": [
    "# Files,Packages and Modules:"
   ]
  },
  {
   "cell_type": "markdown",
   "id": "f81bbb08",
   "metadata": {},
   "source": [
    "# Files:\n",
    "    - To store values or data in permantely\n",
    "    - File formates .py,.text,.java,csv\n",
    "    - 3 modes\n",
    "        - Read -> r -> if file doesn't exists it displays an error.if file exixts it reads the data in a file\n",
    "        - write -> w -> if the doesn't exists it creates a file with user defined filename.if file exists it written to a file.previous data will be erased and new data will be added\n",
    "        - append -> a -> if file doesn't exists it creates a file with user defined filename.if file exists it writes to a file.it will adds new data for existing ones\n",
    "        - execute -> x -> if the file is not exist with filename then it creates a file with user defined filename"
   ]
  },
  {
   "cell_type": "code",
   "execution_count": 7,
   "id": "b487404b",
   "metadata": {},
   "outputs": [],
   "source": [
    "with open('Rawdata/sample.text','w')as ft:\n",
    "    ft.write(\"Hello Good Evening to All\")"
   ]
  },
  {
   "cell_type": "code",
   "execution_count": 10,
   "id": "79070123",
   "metadata": {},
   "outputs": [
    {
     "name": "stdout",
     "output_type": "stream",
     "text": [
      "Hello Good Evening to All\n",
      "Welcome to APSSDC program \n"
     ]
    }
   ],
   "source": [
    "with open('Rawdata/sample.text','r')as fr:\n",
    "    print(fr.read())"
   ]
  },
  {
   "cell_type": "code",
   "execution_count": 9,
   "id": "597382ba",
   "metadata": {},
   "outputs": [],
   "source": [
    "with open('Rawdata/sample.text','a')as fa:\n",
    "    fa.write(\"\\nWelcome to APSSDC program \")"
   ]
  },
  {
   "cell_type": "code",
   "execution_count": 11,
   "id": "0e59b456",
   "metadata": {},
   "outputs": [],
   "source": []
  },
  {
   "cell_type": "code",
   "execution_count": null,
   "id": "b7124296",
   "metadata": {},
   "outputs": [],
   "source": []
  }
 ],
 "metadata": {
  "kernelspec": {
   "display_name": "Python 3",
   "language": "python",
   "name": "python3"
  },
  "language_info": {
   "codemirror_mode": {
    "name": "ipython",
    "version": 3
   },
   "file_extension": ".py",
   "mimetype": "text/x-python",
   "name": "python",
   "nbconvert_exporter": "python",
   "pygments_lexer": "ipython3",
   "version": "3.7.0"
  }
 },
 "nbformat": 4,
 "nbformat_minor": 5
}
