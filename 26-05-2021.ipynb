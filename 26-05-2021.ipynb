{
 "cells": [
  {
   "cell_type": "code",
   "execution_count": 1,
   "id": "b685e9ca",
   "metadata": {},
   "outputs": [
    {
     "name": "stdout",
     "output_type": "stream",
     "text": [
      "enter a value:15\n",
      "enter a name:lakshmi\n",
      "entered number is: 15\n",
      "enter name is:lakshmi\n"
     ]
    }
   ],
   "source": [
    "n = int(input(\"enter a value:\"))\n",
    "m = input(\"enter a name:\")\n",
    "print(\"entered number is: %d\"%n)\n",
    "print(\"enter name is:%s\"%m)"
   ]
  },
  {
   "cell_type": "code",
   "execution_count": null,
   "id": "839bc193",
   "metadata": {},
   "outputs": [],
   "source": []
  },
  {
   "cell_type": "code",
   "execution_count": 2,
   "id": "346cf528",
   "metadata": {},
   "outputs": [
    {
     "name": "stdout",
     "output_type": "stream",
     "text": [
      "entered number is:15 and entered name is:lakshmi\n"
     ]
    }
   ],
   "source": [
    "print(\"entered number is:%d and entered name is:%s\"%(n,m))"
   ]
  },
  {
   "cell_type": "code",
   "execution_count": 3,
   "id": "12dd1f5c",
   "metadata": {},
   "outputs": [
    {
     "name": "stdout",
     "output_type": "stream",
     "text": [
      "entered number is 15 and entered name is:lakshmi\n",
      "entered number is15 and entered name is:lakshmi\n",
      "entered name islakshmi and entered number is:15\n"
     ]
    }
   ],
   "source": [
    "print(\"entered number is {} and entered name is:{}\".format(n,m))\n",
    "print(\"entered number is{0} and entered name is:{1}\".format(n,m))\n",
    "print(\"entered name is{1} and entered number is:{0}\".format(n,m))"
   ]
  },
  {
   "cell_type": "markdown",
   "id": "be2e0679",
   "metadata": {},
   "source": [
    "## operators\n",
    "    - arithematic -> +,-,*,/,floor(//)-> exact integer,expotential(**=power())\n",
    "    - bitwise -> and,or,not\n",
    "    - relational -> ==,>=,<=,<,>\n",
    "    - assignment -> +=,-=,*=,/=,%=\n",
    "    - memebership -> in,notin\n",
    "    - identity -> is,isnot"
   ]
  },
  {
   "cell_type": "code",
   "execution_count": 1,
   "id": "6ee99e7a",
   "metadata": {},
   "outputs": [
    {
     "name": "stdout",
     "output_type": "stream",
     "text": [
      "5\n"
     ]
    }
   ],
   "source": [
    "a = 20\n",
    "print(a>>2)"
   ]
  },
  {
   "cell_type": "markdown",
   "id": "196b7f27",
   "metadata": {},
   "source": [
    "# conditional statements\n",
    "    - to check whether a given condition is either true or false\n",
    "    - if,nested if,if-else,elif ladder"
   ]
  },
  {
   "cell_type": "markdown",
   "id": "59b35478",
   "metadata": {},
   "source": [
    "## if -> single case[T or F]\n",
    "```\n",
    "    syntax:\n",
    "        if (condition):\n",
    "            //stmt\n",
    "```"
   ]
  },
  {
   "cell_type": "code",
   "execution_count": 3,
   "id": "52e51c99",
   "metadata": {},
   "outputs": [
    {
     "name": "stdout",
     "output_type": "stream",
     "text": [
      "45\n",
      "entered value is:45\n"
     ]
    }
   ],
   "source": [
    "n = int(input())\n",
    "if n == 45:\n",
    "    print(\"entered value is:{}\".format(n))"
   ]
  },
  {
   "cell_type": "markdown",
   "id": "1ba35d44",
   "metadata": {},
   "source": [
    "## if-else -> two cases[T or F]\n",
    "```\n",
    "    syntax:\n",
    "        if(condition-1)\n",
    "            //true statement\n",
    "        else:\n",
    "            //false statement\n",
    "```"
   ]
  },
  {
   "cell_type": "code",
   "execution_count": 4,
   "id": "43755775",
   "metadata": {},
   "outputs": [
    {
     "name": "stdout",
     "output_type": "stream",
     "text": [
      "12\n",
      "26\n",
      "entered values12 is not equal to26\n"
     ]
    }
   ],
   "source": [
    "k = int(input())\n",
    "m = int(input())\n",
    "if k == m:\n",
    "    print(\"entered values{} and {} are equal\".format(k,m))\n",
    "else:\n",
    "    print(\"entered values{} is not equal to{}\".format(k,m))"
   ]
  },
  {
   "cell_type": "markdown",
   "id": "3be02818",
   "metadata": {},
   "source": [
    "## Nested if[if within an if] -> one or more cases:\n",
    "````\n",
    "    syntax:\n",
    "        if(condition-1):\n",
    "          if(condition-2):\n",
    "            \\\\stmt-1\n",
    "       else optional case\n",
    "          if(condition-1):\n",
    "             if(condition-2):\n",
    "                \\\\stmt-1\n",
    "      else:\n",
    "         \\\\stmt\n",
    "     else:\n",
    "         \\\\stmt\n",
    "````"
   ]
  },
  {
   "cell_type": "code",
   "execution_count": 13,
   "id": "65f69d88",
   "metadata": {},
   "outputs": [
    {
     "name": "stdout",
     "output_type": "stream",
     "text": [
      "300\n",
      "Entered value 300 is greater than 200\n"
     ]
    }
   ],
   "source": [
    "n = int(input())\n",
    "if (n) < 200:\n",
    "    if(n == 100):\n",
    "        print(\"Entered value is equal to 100\".format(n))\n",
    "    else:\n",
    "        print(\"Entered value {} is not equal to 100 but it is lower than 200\".format(n))\n",
    "else:\n",
    "    print(\"Entered value {} is greater than 200\".format(n))"
   ]
  },
  {
   "cell_type": "code",
   "execution_count": 14,
   "id": "a08823c6",
   "metadata": {},
   "outputs": [
    {
     "name": "stdout",
     "output_type": "stream",
     "text": [
      "150\n",
      "Entered value 150 is not equal to 100 but it is lower than 200\n"
     ]
    }
   ],
   "source": [
    "n = int(input())\n",
    "if (n) < 200:\n",
    "    if(n == 100):\n",
    "        print(\"Entered value is equal to 100\".format(n))\n",
    "    else:\n",
    "        print(\"Entered value {} is not equal to 100 but it is lower than 200\".format(n))\n",
    "else:\n",
    "    print(\"Entered value {} is greater than 200\".format(n))"
   ]
  },
  {
   "cell_type": "code",
   "execution_count": 15,
   "id": "7819221e",
   "metadata": {},
   "outputs": [
    {
     "name": "stdout",
     "output_type": "stream",
     "text": [
      "100\n",
      "Entered value is equal to 100\n"
     ]
    }
   ],
   "source": [
    "n = int(input())\n",
    "if (n) < 200:\n",
    "    if(n == 100):\n",
    "        print(\"Entered value is equal to 100\".format(n))\n",
    "    else:\n",
    "        print(\"Entered value {} is not equal to 100 but it is lower than 200\".format(n))\n",
    "else:\n",
    "    print(\"Entered value {} is greater than 200\".format(n))"
   ]
  },
  {
   "cell_type": "markdown",
   "id": "6bcf7a3d",
   "metadata": {},
   "source": [
    "### Elif -> two or n more cases\n",
    "```\n",
    "    syntax:\n",
    "        if(condition-1):\n",
    "            \\\\stmt-1\n",
    "        elif(condition-2):\n",
    "            \\\\stmt-2\n",
    "        elif(condition-n):\n",
    "            \\\\stmt-n\n",
    "        else:\n",
    "            \\\\stmt-(n+1)\n",
    "```"
   ]
  },
  {
   "cell_type": "code",
   "execution_count": 19,
   "id": "1e7ec348",
   "metadata": {},
   "outputs": [
    {
     "name": "stdout",
     "output_type": "stream",
     "text": [
      "6\n",
      "entered value 6 is divisible by 2\n"
     ]
    }
   ],
   "source": [
    "n = int(input())\n",
    "if n%2 == 0 and n%4 == 0:\n",
    "    print(\"entered value {} is divisible by 2 and 4\".format(n))\n",
    "elif n%2==0:\n",
    "    print(\"entered value {} is divisible by 2\".format(n))\n",
    "else:\n",
    "    print(\"entered value {} is not divisible by 2\".format(n))"
   ]
  },
  {
   "cell_type": "code",
   "execution_count": 20,
   "id": "af161eb3",
   "metadata": {},
   "outputs": [
    {
     "name": "stdout",
     "output_type": "stream",
     "text": [
      "8\n",
      "entered value 8 is divisible by 2 and 4\n"
     ]
    }
   ],
   "source": [
    "n = int(input())\n",
    "if n%2 == 0 and n%4 == 0:\n",
    "    print(\"entered value {} is divisible by 2 and 4\".format(n))\n",
    "elif n%2==0:\n",
    "    print(\"entered value {} is divisible by 2\".format(n))\n",
    "else:\n",
    "    print(\"entered value {} is not divisible by 2\".format(n))"
   ]
  },
  {
   "cell_type": "code",
   "execution_count": 21,
   "id": "bec5b845",
   "metadata": {},
   "outputs": [
    {
     "name": "stdout",
     "output_type": "stream",
     "text": [
      "1\n",
      "entered value 1 is not divisible by 2\n"
     ]
    }
   ],
   "source": [
    "n = int(input())\n",
    "if n%2 == 0 and n%4 == 0:\n",
    "    print(\"entered value {} is divisible by 2 and 4\".format(n))\n",
    "elif n%2==0:\n",
    "    print(\"entered value {} is divisible by 2\".format(n))\n",
    "else:\n",
    "    print(\"entered value {} is not divisible by 2\".format(n))"
   ]
  },
  {
   "cell_type": "code",
   "execution_count": null,
   "id": "f8436a34",
   "metadata": {},
   "outputs": [],
   "source": []
  }
 ],
 "metadata": {
  "kernelspec": {
   "display_name": "Python 3",
   "language": "python",
   "name": "python3"
  },
  "language_info": {
   "codemirror_mode": {
    "name": "ipython",
    "version": 3
   },
   "file_extension": ".py",
   "mimetype": "text/x-python",
   "name": "python",
   "nbconvert_exporter": "python",
   "pygments_lexer": "ipython3",
   "version": "3.7.0"
  }
 },
 "nbformat": 4,
 "nbformat_minor": 5
}
