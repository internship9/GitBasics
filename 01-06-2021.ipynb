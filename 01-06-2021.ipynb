{
 "cells": [
  {
   "cell_type": "markdown",
   "id": "ebbdb01a",
   "metadata": {},
   "source": [
    "# Python Iterators,Data types,Data structures\n",
    "    - list\n",
    "    - Tuple\n",
    "    - Set\n",
    "    - Dictonary"
   ]
  },
  {
   "cell_type": "markdown",
   "id": "d0beaf05",
   "metadata": {},
   "source": [
    "# List:\n",
    "    - It can store different data type elements\n",
    "    - It can be defined as \"[]\" and type casting as \"list()\"\n",
    "    - It consists of index so clicking can be done\n",
    "    - It stores the value in given format\n",
    "    - In this the values can be changes"
   ]
  },
  {
   "cell_type": "markdown",
   "id": "8d17c896",
   "metadata": {},
   "source": [
    "# Tuple:\n",
    "    - It can stores different data type elements\n",
    "    - It can be defined as \"()\" and type casting as \"tuple\"\n",
    "    - It consists of index and clicking can be done\n",
    "    - It stores the value in given format\n",
    "    - In this the values can be charged\n",
    "    - It can stores duplicate elements"
   ]
  },
  {
   "cell_type": "markdown",
   "id": "9457792f",
   "metadata": {},
   "source": [
    "# Set:\n",
    "    - It can store different data type elements\n",
    "    - It can be defined as \"{}\" and type casting as \"set{}\" => set\n",
    "    - It doesn't consists of index and slicing can't be done\n",
    "    - It stores the value in given format but it prints in alphabetical order\n",
    "    - In this the values can be changes\n",
    "    - It can't stores the duplicate elements"
   ]
  },
  {
   "cell_type": "markdown",
   "id": "ec9bc5f9",
   "metadata": {},
   "source": [
    "# Dictionary:\n",
    "    - It can stores the different data type elements but it follows key and value pairs\n",
    "    - It can be defined as \"{}\" by default as type casting as \"dict\"\n",
    "    - It consists of index but it can be applicable for either keys or values and slicing can be done\n",
    "    - It stores the value in given format\n",
    "    - In this the values can be changed\n",
    "    - It can't stores the duplicate keys but it stores duplicate values"
   ]
  },
  {
   "cell_type": "markdown",
   "id": "1b0a1f8e",
   "metadata": {},
   "source": [
    "# List:"
   ]
  },
  {
   "cell_type": "code",
   "execution_count": 1,
   "id": "d497ce14",
   "metadata": {},
   "outputs": [
    {
     "data": {
      "text/plain": [
       "[23, 45, 26, 'rajesh', 23, 'somu']"
      ]
     },
     "execution_count": 1,
     "metadata": {},
     "output_type": "execute_result"
    }
   ],
   "source": [
    "k = [23,45,26,\"rajesh\",23,\"somu\"]\n",
    "k"
   ]
  },
  {
   "cell_type": "code",
   "execution_count": 2,
   "id": "5a58357d",
   "metadata": {},
   "outputs": [
    {
     "name": "stdout",
     "output_type": "stream",
     "text": [
      "[23, 45, 26, 'rajesh', 23, 'somu'] <class 'list'>\n"
     ]
    }
   ],
   "source": [
    "k = [23,45,26,\"rajesh\",23,\"somu\"]\n",
    "print(k,type(k))"
   ]
  },
  {
   "cell_type": "code",
   "execution_count": 3,
   "id": "c1dd3acd",
   "metadata": {},
   "outputs": [
    {
     "name": "stdout",
     "output_type": "stream",
     "text": [
      "<class 'int'>\n"
     ]
    }
   ],
   "source": [
    "a = 15\n",
    "print(type(a))"
   ]
  },
  {
   "cell_type": "code",
   "execution_count": 6,
   "id": "46cc35ee",
   "metadata": {},
   "outputs": [
    {
     "name": "stdout",
     "output_type": "stream",
     "text": [
      "26\n",
      "somu\n"
     ]
    }
   ],
   "source": [
    "print(k[2])\n",
    "print(k[-1])"
   ]
  },
  {
   "cell_type": "code",
   "execution_count": 7,
   "id": "11f0c8ee",
   "metadata": {},
   "outputs": [
    {
     "name": "stdout",
     "output_type": "stream",
     "text": [
      "<class 'list'>\n"
     ]
    }
   ],
   "source": [
    "print(type(k))"
   ]
  },
  {
   "cell_type": "code",
   "execution_count": 8,
   "id": "8de1c79e",
   "metadata": {},
   "outputs": [
    {
     "name": "stdout",
     "output_type": "stream",
     "text": [
      "['__add__', '__class__', '__contains__', '__delattr__', '__delitem__', '__dir__', '__doc__', '__eq__', '__format__', '__ge__', '__getattribute__', '__getitem__', '__gt__', '__hash__', '__iadd__', '__imul__', '__init__', '__init_subclass__', '__iter__', '__le__', '__len__', '__lt__', '__mul__', '__ne__', '__new__', '__reduce__', '__reduce_ex__', '__repr__', '__reversed__', '__rmul__', '__setattr__', '__setitem__', '__sizeof__', '__str__', '__subclasshook__', 'append', 'clear', 'copy', 'count', 'extend', 'index', 'insert', 'pop', 'remove', 'reverse', 'sort']\n"
     ]
    }
   ],
   "source": [
    "print(dir(k))"
   ]
  },
  {
   "cell_type": "code",
   "execution_count": 9,
   "id": "c4938555",
   "metadata": {},
   "outputs": [
    {
     "name": "stdout",
     "output_type": "stream",
     "text": [
      "['__add__', '__class__', '__contains__', '__delattr__', '__delitem__', '__dir__', '__doc__', '__eq__', '__format__', '__ge__', '__getattribute__', '__getitem__', '__gt__', '__hash__', '__iadd__', '__imul__', '__init__', '__init_subclass__', '__iter__', '__le__', '__len__', '__lt__', '__mul__', '__ne__', '__new__', '__reduce__', '__reduce_ex__', '__repr__', '__reversed__', '__rmul__', '__setattr__', '__setitem__', '__sizeof__', '__str__', '__subclasshook__', 'append', 'clear', 'copy', 'count', 'extend', 'index', 'insert', 'pop', 'remove', 'reverse', 'sort']\n"
     ]
    }
   ],
   "source": [
    "print(dir(list))"
   ]
  },
  {
   "cell_type": "code",
   "execution_count": 10,
   "id": "7a13c3bc",
   "metadata": {},
   "outputs": [
    {
     "name": "stdout",
     "output_type": "stream",
     "text": [
      "[45, 78, 56]\n",
      "somu\n",
      "[45, 78, 56, 'somu']\n"
     ]
    }
   ],
   "source": [
    "m = [45,78,56]\n",
    "print(m)\n",
    "n = input()\n",
    "m.append(n)\n",
    "print(m)"
   ]
  },
  {
   "cell_type": "code",
   "execution_count": 11,
   "id": "18613a0b",
   "metadata": {},
   "outputs": [
    {
     "data": {
      "text/plain": [
       "[45, 78, 56, 'somu']"
      ]
     },
     "execution_count": 11,
     "metadata": {},
     "output_type": "execute_result"
    }
   ],
   "source": [
    "m"
   ]
  },
  {
   "cell_type": "code",
   "execution_count": 12,
   "id": "8554bdd2",
   "metadata": {},
   "outputs": [
    {
     "name": "stdout",
     "output_type": "stream",
     "text": [
      "[45, 78, 56]\n",
      "45\n",
      "[45, 78, 56, 45]\n"
     ]
    }
   ],
   "source": [
    "m = [45,78,56]\n",
    "print(m)\n",
    "n = input()\n",
    "m.append(int(n))\n",
    "print(m)"
   ]
  },
  {
   "cell_type": "code",
   "execution_count": 13,
   "id": "c872ee83",
   "metadata": {},
   "outputs": [
    {
     "name": "stdout",
     "output_type": "stream",
     "text": [
      "['tarun', 45, 148, 45, 20] <class 'list'>\n",
      "['tarun', 45, 148, 45, 20]\n",
      "['tarun', 45, 148, 45, 20, 'prasad']\n",
      "['tarun', 45, 148, 45, 20]\n"
     ]
    }
   ],
   "source": [
    "n = [\"tarun\",45,148,45,20]\n",
    "b = n.copy()\n",
    "print(b,type(b))\n",
    "print(n)\n",
    "n.append(\"prasad\")\n",
    "print(n)\n",
    "print(b)"
   ]
  },
  {
   "cell_type": "code",
   "execution_count": 14,
   "id": "0c199454",
   "metadata": {},
   "outputs": [
    {
     "name": "stdout",
     "output_type": "stream",
     "text": [
      "['tarun', 45, 148, 45, 20] <class 'list'>\n",
      "['tarun', 45, 148, 45, 20]\n",
      "['tarun', 45, 148, 45, 20, 'prasad']\n",
      "['tarun', 45, 148, 45, 20]\n",
      "['tarun', 45, 148, 45, 20, 'prasad']\n",
      "['tarun', 45, 148, 45, 20, 'kumar']\n"
     ]
    }
   ],
   "source": [
    "n = [\"tarun\",45,148,45,20]\n",
    "b = n.copy()\n",
    "print(b,type(b))\n",
    "print(n)\n",
    "n.append(\"prasad\")\n",
    "print(n)\n",
    "print(b)\n",
    "b.append(\"kumar\")\n",
    "print(n)\n",
    "print(b)"
   ]
  },
  {
   "cell_type": "code",
   "execution_count": 15,
   "id": "0cf1737f",
   "metadata": {},
   "outputs": [
    {
     "data": {
      "text/plain": [
       "2"
      ]
     },
     "execution_count": 15,
     "metadata": {},
     "output_type": "execute_result"
    }
   ],
   "source": [
    "p = [12,15,12,78,'somu',89,'kiran']\n",
    "p.count(12)"
   ]
  },
  {
   "cell_type": "code",
   "execution_count": 16,
   "id": "62ca37e6",
   "metadata": {},
   "outputs": [
    {
     "data": {
      "text/plain": [
       "0"
      ]
     },
     "execution_count": 16,
     "metadata": {},
     "output_type": "execute_result"
    }
   ],
   "source": [
    "p = [12,15,12,78,'somu',89,'kiran']\n",
    "p.count(1)"
   ]
  },
  {
   "cell_type": "code",
   "execution_count": 17,
   "id": "0040ef19",
   "metadata": {},
   "outputs": [
    {
     "name": "stdout",
     "output_type": "stream",
     "text": [
      "12\n",
      "15\n",
      "12\n",
      "78\n",
      "somu\n",
      "89\n",
      "kiran\n"
     ]
    }
   ],
   "source": [
    "p = [12,15,12,78,'somu',89,'kiran']\n",
    "# print(p.count(1))\n",
    "# print(p.count(12))\n",
    "for n in p:\n",
    "    print(n)"
   ]
  },
  {
   "cell_type": "code",
   "execution_count": 18,
   "id": "3344b615",
   "metadata": {},
   "outputs": [
    {
     "name": "stdout",
     "output_type": "stream",
     "text": [
      "0\n",
      "1\n",
      "2\n",
      "3\n",
      "4\n",
      "5\n",
      "6\n"
     ]
    }
   ],
   "source": [
    "for b in range(len(p)):\n",
    "    print(b)"
   ]
  },
  {
   "cell_type": "code",
   "execution_count": null,
   "id": "1b0817c9",
   "metadata": {},
   "outputs": [],
   "source": [
    "p = [12,15,12,78,'somu'.89,'kiran']\n",
    "for n in p:\n",
    "    print(\"{} count is: {}\")"
   ]
  },
  {
   "cell_type": "code",
   "execution_count": 19,
   "id": "a3db0330",
   "metadata": {},
   "outputs": [
    {
     "name": "stdout",
     "output_type": "stream",
     "text": [
      "[78, 89.1245, 'prasad']\n",
      "['somu', 'tejaswini', 'lalitha', 78, 89.1245, 'prasad']\n"
     ]
    }
   ],
   "source": [
    "v = [78,89.1245,\"prasad\"]\n",
    "b = [\"somu\",\"tejaswini\",\"lalitha\"]\n",
    "b.extend(v)\n",
    "print(v)\n",
    "print(b)"
   ]
  },
  {
   "cell_type": "code",
   "execution_count": 20,
   "id": "b7ec664f",
   "metadata": {},
   "outputs": [
    {
     "name": "stdout",
     "output_type": "stream",
     "text": [
      "[78, 89.1245, 'prasad', 'somu', 'tejaswini', 'lalitha']\n",
      "['somu', 'tejaswini', 'lalitha']\n"
     ]
    }
   ],
   "source": [
    "v = [78,89.1245,\"prasad\"]\n",
    "b = [\"somu\",\"tejaswini\",\"lalitha\"]\n",
    "v.extend(b)\n",
    "print(v)\n",
    "print(b)"
   ]
  },
  {
   "cell_type": "code",
   "execution_count": 21,
   "id": "bf7d945e",
   "metadata": {},
   "outputs": [
    {
     "name": "stdout",
     "output_type": "stream",
     "text": [
      "[78, 89.1245, 'prasad', 'somu', 'tejaswini', 'lalitha']\n",
      "['somu', 'tejaswini', 'lalitha']\n",
      "[78, 89.1245, 'prasad', 'somu', 'tejaswini', 'lalitha']\n",
      "['somu', 'tejaswini', 'lalitha', 200]\n"
     ]
    }
   ],
   "source": [
    "v = [78,89.1245,\"prasad\"]\n",
    "b = [\"somu\",\"tejaswini\",\"lalitha\"]\n",
    "v.extend(b)\n",
    "print(v)\n",
    "print(b)\n",
    "b.append(200)\n",
    "print(v)\n",
    "print(b)"
   ]
  },
  {
   "cell_type": "code",
   "execution_count": 22,
   "id": "b29dafee",
   "metadata": {},
   "outputs": [
    {
     "data": {
      "text/plain": [
       "0"
      ]
     },
     "execution_count": 22,
     "metadata": {},
     "output_type": "execute_result"
    }
   ],
   "source": [
    "v.index(78)"
   ]
  },
  {
   "cell_type": "code",
   "execution_count": 23,
   "id": "d7f3298e",
   "metadata": {},
   "outputs": [
    {
     "data": {
      "text/plain": [
       "2"
      ]
     },
     "execution_count": 23,
     "metadata": {},
     "output_type": "execute_result"
    }
   ],
   "source": [
    "v.index(\"prasad\")"
   ]
  },
  {
   "cell_type": "code",
   "execution_count": 24,
   "id": "3d3089cf",
   "metadata": {},
   "outputs": [
    {
     "name": "stdout",
     "output_type": "stream",
     "text": [
      "2\n"
     ]
    }
   ],
   "source": [
    "print(v.index(\"prasad\"))"
   ]
  },
  {
   "cell_type": "code",
   "execution_count": 25,
   "id": "d35a7d81",
   "metadata": {},
   "outputs": [
    {
     "name": "stdout",
     "output_type": "stream",
     "text": [
      "['rajesh', 12, 15, 19, 750]\n"
     ]
    }
   ],
   "source": [
    "x = [12,15,19,750]\n",
    "x.insert(0,\"rajesh\")\n",
    "print(x)"
   ]
  },
  {
   "cell_type": "code",
   "execution_count": 26,
   "id": "002121ae",
   "metadata": {},
   "outputs": [
    {
     "ename": "NameError",
     "evalue": "name '_doc_insert' is not defined",
     "output_type": "error",
     "traceback": [
      "\u001b[1;31m---------------------------------------------------------------------------\u001b[0m",
      "\u001b[1;31mNameError\u001b[0m                                 Traceback (most recent call last)",
      "\u001b[1;32m<ipython-input-26-1c3f84122a2d>\u001b[0m in \u001b[0;36m<module>\u001b[1;34m\u001b[0m\n\u001b[1;32m----> 1\u001b[1;33m \u001b[0mprint\u001b[0m\u001b[1;33m(\u001b[0m\u001b[0m_doc_insert\u001b[0m\u001b[1;33m)\u001b[0m\u001b[1;33m\u001b[0m\u001b[0m\n\u001b[0m",
      "\u001b[1;31mNameError\u001b[0m: name '_doc_insert' is not defined"
     ]
    }
   ],
   "source": [
    "print(_doc_insert)"
   ]
  },
  {
   "cell_type": "code",
   "execution_count": 28,
   "id": "73ab7bca",
   "metadata": {},
   "outputs": [
    {
     "name": "stdout",
     "output_type": "stream",
     "text": [
      "Insert object before index.\n"
     ]
    }
   ],
   "source": [
    "print(list.insert.__doc__)"
   ]
  },
  {
   "cell_type": "code",
   "execution_count": 29,
   "id": "9a1f72ff",
   "metadata": {},
   "outputs": [
    {
     "name": "stdout",
     "output_type": "stream",
     "text": [
      "Return number of occurrences of value.\n"
     ]
    }
   ],
   "source": [
    "print(list.count.__doc__)"
   ]
  },
  {
   "cell_type": "code",
   "execution_count": 30,
   "id": "a639db11",
   "metadata": {},
   "outputs": [
    {
     "data": {
      "text/plain": [
       "['rajesh', 12, 15, 19, 750]"
      ]
     },
     "execution_count": 30,
     "metadata": {},
     "output_type": "execute_result"
    }
   ],
   "source": [
    "x"
   ]
  },
  {
   "cell_type": "code",
   "execution_count": 31,
   "id": "c6660f84",
   "metadata": {},
   "outputs": [
    {
     "name": "stdout",
     "output_type": "stream",
     "text": [
      "Help on method_descriptor:\n",
      "\n",
      "insert(self, index, object, /)\n",
      "    Insert object before index.\n",
      "\n"
     ]
    }
   ],
   "source": [
    "help(list.insert)"
   ]
  },
  {
   "cell_type": "code",
   "execution_count": 32,
   "id": "2c9f9853",
   "metadata": {},
   "outputs": [
    {
     "data": {
      "text/plain": [
       "['rajesh', 12, 15, 19, 750]"
      ]
     },
     "execution_count": 32,
     "metadata": {},
     "output_type": "execute_result"
    }
   ],
   "source": [
    "x"
   ]
  },
  {
   "cell_type": "code",
   "execution_count": 33,
   "id": "48c19365",
   "metadata": {},
   "outputs": [
    {
     "name": "stdout",
     "output_type": "stream",
     "text": [
      "['rajesh', 12, 15, 19, 750]\n",
      "['rajesh', 12, 15, 19]\n"
     ]
    }
   ],
   "source": [
    "print(x)\n",
    "x.pop()\n",
    "print(x)"
   ]
  },
  {
   "cell_type": "code",
   "execution_count": 35,
   "id": "e5466bee",
   "metadata": {},
   "outputs": [
    {
     "data": {
      "text/plain": [
       "12"
      ]
     },
     "execution_count": 35,
     "metadata": {},
     "output_type": "execute_result"
    }
   ],
   "source": [
    "x.pop(1)"
   ]
  },
  {
   "cell_type": "code",
   "execution_count": 36,
   "id": "83cc77e6",
   "metadata": {},
   "outputs": [
    {
     "name": "stdout",
     "output_type": "stream",
     "text": [
      "['rajesh', 15, 19]\n"
     ]
    }
   ],
   "source": [
    "print(x)"
   ]
  },
  {
   "cell_type": "code",
   "execution_count": 37,
   "id": "12394d85",
   "metadata": {},
   "outputs": [
    {
     "name": "stdout",
     "output_type": "stream",
     "text": [
      "[45, 89, 12, 76, 'prasad', 'srilatha', 'ramesh']\n"
     ]
    }
   ],
   "source": [
    "y = [45,89,12,76,\"prasad\",\"srilatha\",\"ramesh\"]\n",
    "print(y)"
   ]
  },
  {
   "cell_type": "code",
   "execution_count": 38,
   "id": "2690a914",
   "metadata": {},
   "outputs": [
    {
     "name": "stdout",
     "output_type": "stream",
     "text": [
      "[45, 89, 12, 76, 'prasad', 'srilatha', 'ramesh']\n",
      "[45, 89, 12, 'prasad', 'srilatha', 'ramesh']\n"
     ]
    }
   ],
   "source": [
    "print(y)\n",
    "y.remove(76)\n",
    "print(y)"
   ]
  },
  {
   "cell_type": "code",
   "execution_count": 39,
   "id": "74301bca",
   "metadata": {},
   "outputs": [
    {
     "name": "stdout",
     "output_type": "stream",
     "text": [
      "[45, 89, 12, 'prasad', 'srilatha', 'ramesh']\n",
      "['ramesh', 'srilatha', 'prasad', 12, 89, 45]\n"
     ]
    }
   ],
   "source": [
    "print(y)\n",
    "y.reverse()\n",
    "print(y)"
   ]
  },
  {
   "cell_type": "code",
   "execution_count": 40,
   "id": "941b1cd2",
   "metadata": {},
   "outputs": [
    {
     "name": "stdout",
     "output_type": "stream",
     "text": [
      "['ramesh', 'srilatha', 'prasad', 12, 89, 45]\n"
     ]
    },
    {
     "ename": "TypeError",
     "evalue": "'<' not supported between instances of 'int' and 'str'",
     "output_type": "error",
     "traceback": [
      "\u001b[1;31m---------------------------------------------------------------------------\u001b[0m",
      "\u001b[1;31mTypeError\u001b[0m                                 Traceback (most recent call last)",
      "\u001b[1;32m<ipython-input-40-39374b4c5f1c>\u001b[0m in \u001b[0;36m<module>\u001b[1;34m\u001b[0m\n\u001b[0;32m      1\u001b[0m \u001b[0mprint\u001b[0m\u001b[1;33m(\u001b[0m\u001b[0my\u001b[0m\u001b[1;33m)\u001b[0m\u001b[1;33m\u001b[0m\u001b[0m\n\u001b[1;32m----> 2\u001b[1;33m \u001b[0my\u001b[0m\u001b[1;33m.\u001b[0m\u001b[0msort\u001b[0m\u001b[1;33m(\u001b[0m\u001b[1;33m)\u001b[0m\u001b[1;33m\u001b[0m\u001b[0m\n\u001b[0m\u001b[0;32m      3\u001b[0m \u001b[0mprint\u001b[0m\u001b[1;33m(\u001b[0m\u001b[0my\u001b[0m\u001b[1;33m)\u001b[0m\u001b[1;33m\u001b[0m\u001b[0m\n",
      "\u001b[1;31mTypeError\u001b[0m: '<' not supported between instances of 'int' and 'str'"
     ]
    }
   ],
   "source": [
    "print(y)\n",
    "y.sort()\n",
    "print(y)"
   ]
  },
  {
   "cell_type": "code",
   "execution_count": 42,
   "id": "34ff37b7",
   "metadata": {},
   "outputs": [
    {
     "name": "stdout",
     "output_type": "stream",
     "text": [
      "[45, 2, 200, 1]\n",
      "[1, 2, 45, 200]\n"
     ]
    }
   ],
   "source": [
    "p = [45,2,200,1]\n",
    "print(p)\n",
    "p.sort()\n",
    "print(p)"
   ]
  },
  {
   "cell_type": "code",
   "execution_count": 44,
   "id": "086797a4",
   "metadata": {},
   "outputs": [
    {
     "name": "stdout",
     "output_type": "stream",
     "text": [
      "[45, 12, 40, 125, 0, 1230]\n",
      "[0, 12, 40, 45, 125, 1230]\n"
     ]
    }
   ],
   "source": [
    "k = [45,12,40,125,0,1230]\n",
    "print(k)\n",
    "k.sort()\n",
    "print(k)"
   ]
  },
  {
   "cell_type": "code",
   "execution_count": 45,
   "id": "3229d485",
   "metadata": {},
   "outputs": [
    {
     "name": "stdout",
     "output_type": "stream",
     "text": [
      "['abdul', 'tilak', 'ramu', 'zeeshan']\n",
      "['abdul', 'ramu', 'tilak', 'zeeshan']\n"
     ]
    }
   ],
   "source": [
    "s = [\"abdul\",\"tilak\",\"ramu\",\"zeeshan\"]\n",
    "print(s)\n",
    "s.sort()\n",
    "print(s)"
   ]
  },
  {
   "cell_type": "code",
   "execution_count": 46,
   "id": "93a26cb3",
   "metadata": {},
   "outputs": [
    {
     "data": {
      "text/plain": [
       "['abdul', 'ramu', 'tilak', 'zeeshan']"
      ]
     },
     "execution_count": 46,
     "metadata": {},
     "output_type": "execute_result"
    }
   ],
   "source": [
    "sorted(s)"
   ]
  },
  {
   "cell_type": "code",
   "execution_count": 47,
   "id": "6148a44f",
   "metadata": {},
   "outputs": [
    {
     "name": "stdout",
     "output_type": "stream",
     "text": [
      "['abdul', 'ramu', 'tilak', 'zeeshan']\n"
     ]
    }
   ],
   "source": [
    "print(s)"
   ]
  },
  {
   "cell_type": "code",
   "execution_count": 48,
   "id": "49984320",
   "metadata": {},
   "outputs": [
    {
     "name": "stdout",
     "output_type": "stream",
     "text": [
      "[45, 4, 400]\n"
     ]
    }
   ],
   "source": [
    "d = [45,4,400]\n",
    "sorted(d)\n",
    "print(d)"
   ]
  },
  {
   "cell_type": "code",
   "execution_count": 49,
   "id": "563bd94e",
   "metadata": {},
   "outputs": [
    {
     "name": "stdout",
     "output_type": "stream",
     "text": [
      "[45, 4, 400]\n",
      "[4, 45, 400]\n"
     ]
    }
   ],
   "source": [
    "d = [45,4,400]\n",
    "f = sorted(d)\n",
    "print(d)\n",
    "print(f)"
   ]
  },
  {
   "cell_type": "code",
   "execution_count": 50,
   "id": "9c95e81e",
   "metadata": {},
   "outputs": [
    {
     "name": "stdout",
     "output_type": "stream",
     "text": [
      "[45, 4, 400]\n",
      "[]\n"
     ]
    }
   ],
   "source": [
    "print(d)\n",
    "d.clear()\n",
    "print(d)"
   ]
  },
  {
   "cell_type": "code",
   "execution_count": 51,
   "id": "1b71881f",
   "metadata": {},
   "outputs": [
    {
     "name": "stdout",
     "output_type": "stream",
     "text": [
      "[45, 78, 96]\n"
     ]
    },
    {
     "ename": "NameError",
     "evalue": "name 'f' is not defined",
     "output_type": "error",
     "traceback": [
      "\u001b[1;31m---------------------------------------------------------------------------\u001b[0m",
      "\u001b[1;31mNameError\u001b[0m                                 Traceback (most recent call last)",
      "\u001b[1;32m<ipython-input-51-fe4c7f12656a>\u001b[0m in \u001b[0;36m<module>\u001b[1;34m\u001b[0m\n\u001b[0;32m      2\u001b[0m \u001b[0mprint\u001b[0m\u001b[1;33m(\u001b[0m\u001b[0mf\u001b[0m\u001b[1;33m)\u001b[0m\u001b[1;33m\u001b[0m\u001b[0m\n\u001b[0;32m      3\u001b[0m \u001b[1;32mdel\u001b[0m \u001b[0mf\u001b[0m\u001b[1;33m\u001b[0m\u001b[0m\n\u001b[1;32m----> 4\u001b[1;33m \u001b[0mprint\u001b[0m\u001b[1;33m(\u001b[0m\u001b[0mf\u001b[0m\u001b[1;33m)\u001b[0m\u001b[1;33m\u001b[0m\u001b[0m\n\u001b[0m",
      "\u001b[1;31mNameError\u001b[0m: name 'f' is not defined"
     ]
    }
   ],
   "source": [
    "f = [45,78,96]\n",
    "print(f)\n",
    "del f\n",
    "print(f)"
   ]
  },
  {
   "cell_type": "markdown",
   "id": "06e996a0",
   "metadata": {},
   "source": [
    "# Tuple:"
   ]
  },
  {
   "cell_type": "code",
   "execution_count": 58,
   "id": "deafafbd",
   "metadata": {},
   "outputs": [
    {
     "name": "stdout",
     "output_type": "stream",
     "text": [
      "(12, 48, 79, 5678, 12, 'tarun') <class 'tuple'>\n"
     ]
    }
   ],
   "source": [
    "s = (12,48,79,5678,12,\"tarun\")\n",
    "print(s,type(s))"
   ]
  },
  {
   "cell_type": "code",
   "execution_count": 53,
   "id": "4d2c7d0a",
   "metadata": {},
   "outputs": [
    {
     "name": "stdout",
     "output_type": "stream",
     "text": [
      "['__add__', '__class__', '__contains__', '__delattr__', '__dir__', '__doc__', '__eq__', '__format__', '__ge__', '__getattribute__', '__getitem__', '__getnewargs__', '__gt__', '__hash__', '__init__', '__init_subclass__', '__iter__', '__le__', '__len__', '__lt__', '__mul__', '__ne__', '__new__', '__reduce__', '__reduce_ex__', '__repr__', '__rmul__', '__setattr__', '__sizeof__', '__str__', '__subclasshook__', 'count', 'index']\n"
     ]
    }
   ],
   "source": [
    "print(dir(tuple))"
   ]
  },
  {
   "cell_type": "code",
   "execution_count": 59,
   "id": "d0810a46",
   "metadata": {},
   "outputs": [
    {
     "name": "stdout",
     "output_type": "stream",
     "text": [
      "(12, 48, 79, 5678, 12, 'tarun')\n",
      "(12, 48, 79, 5678, 12, 'tarun')\n"
     ]
    }
   ],
   "source": [
    "print(s)\n",
    "s.count\n",
    "print(s)"
   ]
  },
  {
   "cell_type": "code",
   "execution_count": 60,
   "id": "0e083408",
   "metadata": {},
   "outputs": [
    {
     "name": "stdout",
     "output_type": "stream",
     "text": [
      "(12, 48, 79, 5678, 12, 'tarun')\n",
      "2\n",
      "(12, 48, 79, 5678, 12, 'tarun')\n"
     ]
    }
   ],
   "source": [
    "print(s)\n",
    "print(s.count(12))\n",
    "print(s)"
   ]
  },
  {
   "cell_type": "code",
   "execution_count": 61,
   "id": "a89cc065",
   "metadata": {},
   "outputs": [
    {
     "data": {
      "text/plain": [
       "1"
      ]
     },
     "execution_count": 61,
     "metadata": {},
     "output_type": "execute_result"
    }
   ],
   "source": [
    "s.index(48)"
   ]
  },
  {
   "cell_type": "code",
   "execution_count": 62,
   "id": "5767998e",
   "metadata": {},
   "outputs": [
    {
     "name": "stdout",
     "output_type": "stream",
     "text": [
      "[45, 78, 12, 96, 56] <class 'list'>\n",
      "(12, 45, 56, 78, 96)\n"
     ]
    }
   ],
   "source": [
    "p = (45,78,12,96,56)\n",
    "d = list(p)\n",
    "print(d,type(d))\n",
    "d.sort()\n",
    "q = tuple(d)\n",
    "print(q)"
   ]
  }
 ],
 "metadata": {
  "kernelspec": {
   "display_name": "Python 3",
   "language": "python",
   "name": "python3"
  },
  "language_info": {
   "codemirror_mode": {
    "name": "ipython",
    "version": 3
   },
   "file_extension": ".py",
   "mimetype": "text/x-python",
   "name": "python",
   "nbconvert_exporter": "python",
   "pygments_lexer": "ipython3",
   "version": "3.7.0"
  }
 },
 "nbformat": 4,
 "nbformat_minor": 5
}
