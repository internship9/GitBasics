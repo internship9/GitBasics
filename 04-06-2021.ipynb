{
 "cells": [
  {
   "cell_type": "code",
   "execution_count": 1,
   "id": "b9b0ad06",
   "metadata": {},
   "outputs": [
    {
     "name": "stdout",
     "output_type": "stream",
     "text": [
      "raju 7993296270\n",
      "{'raju': '7993296270'}\n"
     ]
    }
   ],
   "source": [
    "k = input().split()\n",
    "m = {}\n",
    "m[k[0]] = k[1]\n",
    "print(m)"
   ]
  },
  {
   "cell_type": "code",
   "execution_count": 2,
   "id": "fa594428",
   "metadata": {},
   "outputs": [
    {
     "name": "stdout",
     "output_type": "stream",
     "text": [
      "Enter your name: lakshmi\n",
      "Enter your mobile number: 7993297270\n",
      "{'lakshmi': '7993297270'}\n"
     ]
    }
   ],
   "source": [
    "k = input(\"Enter your name: \")\n",
    "n = input(\"Enter your mobile number: \")\n",
    "m = {}\n",
    "m[k] = n\n",
    "print(m)"
   ]
  },
  {
   "cell_type": "code",
   "execution_count": 3,
   "id": "d2e5be23",
   "metadata": {},
   "outputs": [
    {
     "name": "stdout",
     "output_type": "stream",
     "text": [
      "Enter your name: lakshmi\n",
      "enter your mobile number: 7993296270\n",
      "{'lakshmi': '7993296270'}\n",
      "Enter your name: lucky\n",
      "enter your mobile number: 8790670244\n",
      "{'lakshmi': '7993296270', 'lucky': '8790670244'}\n"
     ]
    }
   ],
   "source": [
    "m = {}\n",
    "for j in range(2):\n",
    "    k = input(\"Enter your name: \")\n",
    "    n = input(\"enter your mobile number: \")\n",
    "    m[k] = n\n",
    "    print(m)"
   ]
  },
  {
   "cell_type": "markdown",
   "id": "baf57106",
   "metadata": {},
   "source": [
    "# Functions:\n",
    "    - To perform a specific task\n",
    "    - Reuseability of code\n",
    "    - Number of lines can be decreased\n",
    "    - Predefined Functions,User defined functions"
   ]
  },
  {
   "cell_type": "markdown",
   "id": "4bb54ce7",
   "metadata": {},
   "source": [
    "## Predefined Functions:\n",
    "    - Already work has been allocated for it\n",
    "    - print(),range(),str(),max()"
   ]
  },
  {
   "cell_type": "markdown",
   "id": "cff9813c",
   "metadata": {},
   "source": [
    "## User Defined Functions:\n",
    "    - We need to allocate work for a function\n",
    "    - Syntax:\n",
    "           def function_name(argument):\n",
    "                //stmts\n",
    "                return return_value"
   ]
  },
  {
   "cell_type": "markdown",
   "id": "7a120f8e",
   "metadata": {},
   "source": [
    "### Types of Functions:\n",
    "    - with return type and with arguments\n",
    "    - with return type and without arguments\n",
    "    - without return type and with arguments\n",
    "    - without return type and without arguments"
   ]
  },
  {
   "cell_type": "code",
   "execution_count": 7,
   "id": "32a734bb",
   "metadata": {},
   "outputs": [
    {
     "name": "stdout",
     "output_type": "stream",
     "text": [
      "20\n",
      "1 2 3 4 5 6 7 8 9 10 11 12 13 14 15 16 17 18 19 20 "
     ]
    }
   ],
   "source": [
    "# with return type and with arguments\n",
    "# Reading - main\n",
    "# Printing - main\n",
    "# logic - function\n",
    "def printnumbers(k):\n",
    "    j = []\n",
    "    for b in range(1,k+1):\n",
    "        j.append(b)\n",
    "    return j\n",
    "n = int(input())\n",
    "for z in range(1,len(printnumbers(n))+1):\n",
    "    print(z,end=\" \")\n"
   ]
  },
  {
   "cell_type": "code",
   "execution_count": 8,
   "id": "7281ffce",
   "metadata": {},
   "outputs": [
    {
     "name": "stdout",
     "output_type": "stream",
     "text": [
      "20\n",
      "2 4 6 8 10 12 14 16 18 20 "
     ]
    }
   ],
   "source": [
    "# with return type and without arguments\n",
    "# Reading - function\n",
    "# Printing - main\n",
    "# logic - function\n",
    "\n",
    "def evennumbers():\n",
    "    k,c = int(input()),[]\n",
    "    for b in range(1,k+1):\n",
    "        if b%2 == 0:\n",
    "            c.append(b)\n",
    "    return c\n",
    "for z in evennumbers():\n",
    "    print(z,end=\" \")"
   ]
  },
  {
   "cell_type": "code",
   "execution_count": 11,
   "id": "3697eb7a",
   "metadata": {},
   "outputs": [
    {
     "name": "stdout",
     "output_type": "stream",
     "text": [
      "10\n",
      "1 3 5 7 9 "
     ]
    }
   ],
   "source": [
    "# without return type and with arguments\n",
    "# Reading - main\n",
    "# Printing - function\n",
    "# logic - function\n",
    "\n",
    "def oddnumbers(m):\n",
    "    for i in range(1,m+1):\n",
    "        if i%2!=0:\n",
    "            print(i,end=\" \")\n",
    "    return\n",
    "\n",
    "b = int(input())\n",
    "oddnumbers(b)"
   ]
  },
  {
   "cell_type": "code",
   "execution_count": 12,
   "id": "3f0bdd05",
   "metadata": {},
   "outputs": [
    {
     "name": "stdout",
     "output_type": "stream",
     "text": [
      "20\n",
      "100\n",
      "15\n",
      "20 35 50 65 80 95 "
     ]
    }
   ],
   "source": [
    "# without return type and without arguments\n",
    "# Reading - function\n",
    "# Printing - function\n",
    "# logic - function\n",
    "\n",
    "def skippingvalues():\n",
    "    n = int(input())\n",
    "    m = int(input())\n",
    "    s = int(input())\n",
    "    for j in range(n,m,s):\n",
    "        print(j,end=\" \")\n",
    "    return\n",
    "skippingvalues()"
   ]
  },
  {
   "cell_type": "markdown",
   "id": "781a3c88",
   "metadata": {},
   "source": [
    "# Task:\n",
    "```\n",
    "   Input: 457996548895\n",
    "   Output:\n",
    "        Given number is: 457996548895\n",
    "        Even numbers are: 4 6 4 8 8\n",
    "        Odd numbers are: 5 7 9 9 5 9 5\n",
    "        Left half of even numbers are: 4 6\n",
    "        Right half of even numbers are: 4 8 8\n",
    "        Left half of even number sum is: 10\n",
    "        Right half of even number sum is: 20\n",
    "```"
   ]
  },
  {
   "cell_type": "markdown",
   "id": "59097ea7",
   "metadata": {},
   "source": [
    "## Argument Types:\n",
    "    - Required arguments (or) Positional arguments\n",
    "    - Default arguments\n",
    "    - Keyword arguments\n",
    "    - Variable Length arguments"
   ]
  },
  {
   "cell_type": "code",
   "execution_count": 2,
   "id": "8d768376",
   "metadata": {},
   "outputs": [
    {
     "name": "stdout",
     "output_type": "stream",
     "text": [
      "Enter a name: lakshmi\n",
      "Enter an age: 21\n",
      "Your Name is: 21\n",
      "Your age is: lakshmi\n"
     ]
    }
   ],
   "source": [
    "# required arguments\n",
    "\n",
    "def student(a,n):\n",
    "    print(\"Your Name is: {}\\nYour age is: {}\".format(age,name))\n",
    "    return\n",
    "\n",
    "name = input(\"Enter a name: \")\n",
    "age = int(input(\"Enter an age: \"))\n",
    "student(name,age)"
   ]
  },
  {
   "cell_type": "code",
   "execution_count": 7,
   "id": "812f8cb5",
   "metadata": {},
   "outputs": [
    {
     "ename": "SyntaxError",
     "evalue": "non-default argument follows default argument (<ipython-input-7-46fe14300c8a>, line 3)",
     "output_type": "error",
     "traceback": [
      "\u001b[1;36m  File \u001b[1;32m\"<ipython-input-7-46fe14300c8a>\"\u001b[1;36m, line \u001b[1;32m3\u001b[0m\n\u001b[1;33m    def employee(k,n,p=89,s=45000,l):\u001b[0m\n\u001b[1;37m                ^\u001b[0m\n\u001b[1;31mSyntaxError\u001b[0m\u001b[1;31m:\u001b[0m non-default argument follows default argument\n"
     ]
    }
   ],
   "source": [
    "# Default Arguments\n",
    "\n",
    "def employee(k,n,p=89,s=45000,l):\n",
    "    print(\"Employee Name is: {}\\nEmployee Age is: {}\\nEmployee Saalry is: {}\".format(k,p,s))\n",
    "    return\n",
    "n = input(\"Enter Employee Name: \")\n",
    "#m = int(input(\"Enter Employee Age: \"))\n",
    "employee(n)"
   ]
  },
  {
   "cell_type": "code",
   "execution_count": 15,
   "id": "1e1585a5",
   "metadata": {},
   "outputs": [
    {
     "name": "stdout",
     "output_type": "stream",
     "text": [
      "Enter Your Collegename: pace\n",
      "Enter your year: 2004\n",
      "your collegename is: pace\n",
      "Your year is: 2004\n"
     ]
    }
   ],
   "source": [
    "# Keyword argument\n",
    "\n",
    "def college(year,cname):\n",
    "    print(\"your collegename is: {}\\nYour year is: {}\".format(cname,year))\n",
    "    return\n",
    "\n",
    "cname = input(\"Enter Your Collegename: \")\n",
    "year = int(input(\"Enter your year: \"))\n",
    "college(cname='pace',year=2004)"
   ]
  },
  {
   "cell_type": "code",
   "execution_count": 16,
   "id": "b3212db1",
   "metadata": {},
   "outputs": [
    {
     "name": "stdout",
     "output_type": "stream",
     "text": [
      "4\n",
      "45 12 48 96 3\n",
      "4 <class 'int'>\n",
      "['45', '12', '48', '96', '3'] <class 'list'>\n"
     ]
    }
   ],
   "source": [
    "# Variable length arguments:\n",
    "\n",
    "def number(n,p):\n",
    "    print(n,type(n))\n",
    "    print(p,type(p))\n",
    "    return\n",
    "\n",
    "b = int(input())\n",
    "k = input().split()\n",
    "number(b,k)"
   ]
  },
  {
   "cell_type": "code",
   "execution_count": 17,
   "id": "eb38893e",
   "metadata": {},
   "outputs": [
    {
     "name": "stdout",
     "output_type": "stream",
     "text": [
      "45 869 765 7976 \n",
      "(['45', '869', '765', '7976'],) <class 'tuple'>\n"
     ]
    }
   ],
   "source": [
    "def number(*p):\n",
    "    print(p,type(p))\n",
    "    return\n",
    "\n",
    "#b = int(input())\n",
    "k = input().split()\n",
    "number(k)"
   ]
  },
  {
   "cell_type": "code",
   "execution_count": 18,
   "id": "5f66f28a",
   "metadata": {},
   "outputs": [
    {
     "name": "stdout",
     "output_type": "stream",
     "text": [
      "4\n",
      "4 54 67 87 54\n",
      "4 <class 'int'>\n",
      "(['4', '54', '67', '87', '54'],) <class 'tuple'>\n"
     ]
    }
   ],
   "source": [
    "def number(y,*p):\n",
    "    print(y,type(y))\n",
    "    print(p,type(p))\n",
    "    return\n",
    "\n",
    "b = int(input())\n",
    "k = input().split()\n",
    "number(b,k)"
   ]
  },
  {
   "cell_type": "code",
   "execution_count": 21,
   "id": "c64b1cb9",
   "metadata": {},
   "outputs": [
    {
     "name": "stdout",
     "output_type": "stream",
     "text": [
      "45\n",
      "12\n",
      "3\n",
      "45 <class 'int'>\n",
      "('12', '3') <class 'tuple'>\n",
      "['12', '3']\n"
     ]
    }
   ],
   "source": [
    "def number(y,*p):\n",
    "    print(y,type(y))\n",
    "    print(p,type(p))\n",
    "    b = list(p)\n",
    "    print(b)\n",
    "    return\n",
    "\n",
    "b = int(input())\n",
    "k = input()\n",
    "g = input()\n",
    "number(b,k,g)"
   ]
  }
 ],
 "metadata": {
  "kernelspec": {
   "display_name": "Python 3",
   "language": "python",
   "name": "python3"
  },
  "language_info": {
   "codemirror_mode": {
    "name": "ipython",
    "version": 3
   },
   "file_extension": ".py",
   "mimetype": "text/x-python",
   "name": "python",
   "nbconvert_exporter": "python",
   "pygments_lexer": "ipython3",
   "version": "3.7.0"
  }
 },
 "nbformat": 4,
 "nbformat_minor": 5
}
